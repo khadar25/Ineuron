{
  "nbformat": 4,
  "nbformat_minor": 0,
  "metadata": {
    "kernelspec": {
      "display_name": "Python 3",
      "language": "python",
      "name": "python3"
    },
    "language_info": {
      "codemirror_mode": {
        "name": "ipython",
        "version": 3
      },
      "file_extension": ".py",
      "mimetype": "text/x-python",
      "name": "python",
      "nbconvert_exporter": "python",
      "pygments_lexer": "ipython3",
      "version": "3.7.4"
    },
    "colab": {
      "name": "Subjective Assignment - 3 - Python Class.ipynb",
      "provenance": [],
      "collapsed_sections": []
    }
  },
  "cells": [
    {
      "cell_type": "markdown",
      "metadata": {
        "id": "MZhQl4vsCJOP",
        "colab_type": "text"
      },
      "source": [
        "# Assignment"
      ]
    },
    {
      "cell_type": "markdown",
      "metadata": {
        "id": "QYbgYjuHCJOR",
        "colab_type": "text"
      },
      "source": [
        "Q1. Write the Python class to convert an integer to a roman numeral?"
      ]
    },
    {
      "cell_type": "code",
      "metadata": {
        "id": "FZBmixMhCJOT",
        "colab_type": "code",
        "colab": {
          "base_uri": "https://localhost:8080/",
          "height": 51
        },
        "outputId": "48c17956-21a5-47f4-dd76-105331d14603"
      },
      "source": [
        "class Int_Roman:\n",
        "    def int_to_Roman(self, num):\n",
        "        val = [\n",
        "            1000, 900, 500, 400,\n",
        "            100, 90, 50, 40,\n",
        "            10, 9, 5, 4,\n",
        "            1\n",
        "            ]\n",
        "        syb = [\n",
        "            \"M\", \"CM\", \"D\", \"CD\",\n",
        "            \"C\", \"XC\", \"L\", \"XL\",\n",
        "            \"X\", \"IX\", \"V\", \"IV\",\n",
        "            \"I\"\n",
        "            ]\n",
        "        roman_num = ''\n",
        "        i = 0\n",
        "        while  num > 0:\n",
        "            for _ in range(num // val[i]):\n",
        "                roman_num += syb[i]\n",
        "                num -= val[i]\n",
        "            i += 1\n",
        "        return roman_num\n",
        "\n",
        "\n",
        "print(Int_Roman().int_to_Roman(90))\n",
        "print(Int_Roman().int_to_Roman(40))\n"
      ],
      "execution_count": 2,
      "outputs": [
        {
          "output_type": "stream",
          "text": [
            "XC\n",
            "XL\n"
          ],
          "name": "stdout"
        }
      ]
    },
    {
      "cell_type": "markdown",
      "metadata": {
        "id": "1kZ8Yu6QCJOd",
        "colab_type": "text"
      },
      "source": [
        "Q2 Write the Python class to convert a Roman numeral to an integer?\n"
      ]
    },
    {
      "cell_type": "code",
      "metadata": {
        "id": "MMEAfHkmCJOf",
        "colab_type": "code",
        "colab": {
          "base_uri": "https://localhost:8080/",
          "height": 68
        },
        "outputId": "16bfd725-6b48-4460-8f1c-a620932f4713"
      },
      "source": [
        "class solution:\n",
        "    def roman_to_int(self, s):\n",
        "        rom_val = {'I': 1, 'V': 5, 'X': 10, 'L': 50, 'C': 100, 'D': 500, 'M': 1000}\n",
        "        int_val = 0\n",
        "        for i in range(len(s)):\n",
        "            if i > 0 and rom_val[s[i]] > rom_val[s[i - 1]]:\n",
        "                int_val += rom_val[s[i]] - 2 * rom_val[s[i - 1]]\n",
        "            else:\n",
        "                int_val += rom_val[s[i]]\n",
        "        return int_val\n",
        "\n",
        "print(solution().roman_to_int('MMMCMLXXXVI'))\n",
        "print(solution().roman_to_int('MMMM'))\n",
        "print(solution().roman_to_int('C'))\n"
      ],
      "execution_count": 3,
      "outputs": [
        {
          "output_type": "stream",
          "text": [
            "3986\n",
            "4000\n",
            "100\n"
          ],
          "name": "stdout"
        }
      ]
    },
    {
      "cell_type": "markdown",
      "metadata": {
        "id": "DiQDFjn_CJOl",
        "colab_type": "text"
      },
      "source": [
        "Q3. Write the Python class to find the validity of the string of the\n",
        "parentheses, '(', ')', '{', '}', '[' and '] and the brackets must be closed\n",
        "in the correct order, example - \"()\" and \"()[]{}\" are valid but \"[)\",\n",
        "\"({[)]\" and \"{{{\" are invalid.\n"
      ]
    },
    {
      "cell_type": "code",
      "metadata": {
        "id": "i7I0tHq1CJOn",
        "colab_type": "code",
        "colab": {}
      },
      "source": [
        ""
      ],
      "execution_count": 0,
      "outputs": []
    },
    {
      "cell_type": "markdown",
      "metadata": {
        "id": "AYZfGsp7CJOs",
        "colab_type": "text"
      },
      "source": [
        "Q4. Write the Python class to get all possible unique subsets from a set\n",
        "of distinct integers?\n",
        "\n",
        "    Input - [4, 5, 6]\n",
        "    Output - [[], [6], [5], [5, 6], [4], [4, 6], [4, 5], [4, 5, 6]]"
      ]
    },
    {
      "cell_type": "code",
      "metadata": {
        "id": "dinm-zUTCJOt",
        "colab_type": "code",
        "colab": {
          "base_uri": "https://localhost:8080/",
          "height": 34
        },
        "outputId": "6d6c8c1e-bef5-4ea8-b88e-202732a77677"
      },
      "source": [
        "class unique_subset:\n",
        "    def sub_sets(self, sset):\n",
        "        return self.subsetsRecur([], sorted(sset))\n",
        "    \n",
        "    def subsetsRecur(self, current, sset):\n",
        "        if sset:\n",
        "            return self.subsetsRecur(current, sset[1:]) + self.subsetsRecur(current + [sset[0]], sset[1:])\n",
        "        return [current]\n",
        "\n",
        "print(unique_subset().sub_sets([4,5,6]))\n"
      ],
      "execution_count": 5,
      "outputs": [
        {
          "output_type": "stream",
          "text": [
            "[[], [6], [5], [5, 6], [4], [4, 6], [4, 5], [4, 5, 6]]\n"
          ],
          "name": "stdout"
        }
      ]
    },
    {
      "cell_type": "markdown",
      "metadata": {
        "id": "Yg45_r2cCJOx",
        "colab_type": "text"
      },
      "source": [
        "Q5. Write the Python class to find a pair of elements (indices of the two\n",
        "numbers) from a given array whose sum equals the specific target\n",
        "number?\n",
        "\n",
        "    Input: numbers- [10,20,10,40,50,60,70], target=50\n",
        "    Output- 3, 4"
      ]
    },
    {
      "cell_type": "code",
      "metadata": {
        "id": "vADHccU6CJOz",
        "colab_type": "code",
        "colab": {
          "base_uri": "https://localhost:8080/",
          "height": 34
        },
        "outputId": "2047ab39-90ad-4781-fc9c-ac53fb766a57"
      },
      "source": [
        "class pair_elements:\n",
        "   def twoSum(self, nums, target):\n",
        "        lookup = {}\n",
        "        for i, num in enumerate(nums):\n",
        "            if target - num in lookup:\n",
        "                return (lookup[target - num], i )\n",
        "            lookup[num] = i\n",
        "print(\"%d, %d\" % pair_elements().twoSum((20,30,40,50,60,70,90),50))\n"
      ],
      "execution_count": 10,
      "outputs": [
        {
          "output_type": "stream",
          "text": [
            "0, 1\n"
          ],
          "name": "stdout"
        }
      ]
    },
    {
      "cell_type": "markdown",
      "metadata": {
        "id": "B3-N_KjZCJO3",
        "colab_type": "text"
      },
      "source": [
        "Q6. Write the Python class to find the three elements that sum to zero\n",
        "from the set of n real numbers?\n",
        "\n",
        "    Input array- [-25, -10, -7, -3, 2, 4, 8, 10]\n",
        "    Output - [[-10, 2, 8], [-7, -3, 10]]\n"
      ]
    },
    {
      "cell_type": "code",
      "metadata": {
        "id": "uxqMF7xCCJO4",
        "colab_type": "code",
        "colab": {
          "base_uri": "https://localhost:8080/",
          "height": 34
        },
        "outputId": "c8d64cec-ce7c-4308-a6d1-112ce7befdd4"
      },
      "source": [
        "class find_three:\n",
        " def threeSum(self, nums):\n",
        "        nums, result, i = sorted(nums), [], 0\n",
        "        while i < len(nums) - 2:\n",
        "            j, k = i + 1, len(nums) - 1\n",
        "            while j < k:\n",
        "                if nums[i] + nums[j] + nums[k] < 0:\n",
        "                    j += 1\n",
        "                elif nums[i] + nums[j] + nums[k] > 0:\n",
        "                    k -= 1\n",
        "                else:\n",
        "                    result.append([nums[i], nums[j], nums[k]])\n",
        "                    j, k = j + 1, k - 1\n",
        "                    while j < k and nums[j] == nums[j - 1]:\n",
        "                        j += 1\n",
        "                    while j < k and nums[k] == nums[k + 1]:\n",
        "                        k -= 1\n",
        "            i += 1\n",
        "            while i < len(nums) - 2 and nums[i] == nums[i - 1]:\n",
        "                i += 1\n",
        "        return result\n",
        "\n",
        "print(find_three().threeSum([-25, -10, -7, -3, 2, 4, 8, 10]))\n"
      ],
      "execution_count": 11,
      "outputs": [
        {
          "output_type": "stream",
          "text": [
            "[[-10, 2, 8], [-7, -3, 10]]\n"
          ],
          "name": "stdout"
        }
      ]
    },
    {
      "cell_type": "markdown",
      "metadata": {
        "id": "mJYzme6nCJO9",
        "colab_type": "text"
      },
      "source": [
        "Q7. Write the Python class to implement pow(x, n)?"
      ]
    },
    {
      "cell_type": "code",
      "metadata": {
        "id": "Y-QVsPikCJO-",
        "colab_type": "code",
        "colab": {
          "base_uri": "https://localhost:8080/",
          "height": 68
        },
        "outputId": "394418e2-4414-43fb-94a0-a7e111937bcf"
      },
      "source": [
        "class power:\n",
        "   def pow(self, x, n):\n",
        "        if x==0 or x==1 or n==1:\n",
        "            return x \n",
        "\n",
        "        if x==-1:\n",
        "            if n%2 ==0:\n",
        "                return 1\n",
        "            else:\n",
        "                return -1\n",
        "        if n==0:\n",
        "            return 1\n",
        "        if n<0:\n",
        "            return 1/self.pow(x,-n)\n",
        "        val = self.pow(x,n//2)\n",
        "        if n%2 ==0:\n",
        "            return val*val\n",
        "        return val*val*x\n",
        "\n",
        "print(power().pow(2, -3));\n",
        "print(power().pow(3, 5));\n",
        "print(power().pow(100, 0));\n"
      ],
      "execution_count": 12,
      "outputs": [
        {
          "output_type": "stream",
          "text": [
            "0.125\n",
            "243\n",
            "1\n"
          ],
          "name": "stdout"
        }
      ]
    },
    {
      "cell_type": "markdown",
      "metadata": {
        "id": "Z_EoMsV9CJPC",
        "colab_type": "text"
      },
      "source": [
        "Q8. Write the Python class which has two methods get_String and\n",
        "print_String. get_String accept the string from the user and \n",
        "print_String print the string in upper case."
      ]
    },
    {
      "cell_type": "code",
      "metadata": {
        "id": "l2sGZ-EgCJPD",
        "colab_type": "code",
        "colab": {
          "base_uri": "https://localhost:8080/",
          "height": 51
        },
        "outputId": "e0f44321-588e-4efb-f849-93ab93352012"
      },
      "source": [
        "class IOString():\n",
        "    def __init__(self):\n",
        "        self.str1 = \"\"\n",
        "\n",
        "    def get_String(self):\n",
        "        self.str1 = input()\n",
        "\n",
        "    def print_String(self):\n",
        "        print(self.str1.upper())\n",
        "\n",
        "str1 = IOString()\n",
        "str1.get_String()\n",
        "str1.print_String()\n"
      ],
      "execution_count": 13,
      "outputs": [
        {
          "output_type": "stream",
          "text": [
            "khadar\n",
            "KHADAR\n"
          ],
          "name": "stdout"
        }
      ]
    },
    {
      "cell_type": "markdown",
      "metadata": {
        "id": "fcH0mzsOCJPH",
        "colab_type": "text"
      },
      "source": [
        "Q9. Write the Python class named Rectangle constructed by a length\n",
        "and width and the method which will compute the area of the\n",
        "rectangle?"
      ]
    },
    {
      "cell_type": "code",
      "metadata": {
        "id": "Ha3JGJ4DCJPI",
        "colab_type": "code",
        "colab": {
          "base_uri": "https://localhost:8080/",
          "height": 34
        },
        "outputId": "88ea107f-1f90-434f-8259-9b953ab4fd73"
      },
      "source": [
        "class Rectangle():\n",
        "    def __init__(self, l, w):\n",
        "        self.length = l\n",
        "        self.width  = w\n",
        "\n",
        "    def rectangle_area(self):\n",
        "        return self.length*self.width\n",
        "\n",
        "newRectangle = Rectangle(12, 10)\n",
        "print(newRectangle.rectangle_area())\n"
      ],
      "execution_count": 14,
      "outputs": [
        {
          "output_type": "stream",
          "text": [
            "120\n"
          ],
          "name": "stdout"
        }
      ]
    },
    {
      "cell_type": "markdown",
      "metadata": {
        "id": "-lqTAaVCCJPO",
        "colab_type": "text"
      },
      "source": [
        "Q10. Write the Python class named Circle constructed by the radius\n",
        "and two methods which will compute the area and perimeter of\n",
        "the circle?"
      ]
    },
    {
      "cell_type": "code",
      "metadata": {
        "id": "n2UbnAn3CJPP",
        "colab_type": "code",
        "colab": {
          "base_uri": "https://localhost:8080/",
          "height": 51
        },
        "outputId": "ad5e12b8-886a-4fd6-db2d-4603c77f31ab"
      },
      "source": [
        "class Circle():\n",
        "    def __init__(self, r):\n",
        "        self.radius = r\n",
        "\n",
        "    def area(self):\n",
        "        return self.radius**2*3.14\n",
        "    \n",
        "    def perimeter(self):\n",
        "        return 2*self.radius*3.14\n",
        "\n",
        "NewCircle = Circle(8)\n",
        "print(NewCircle.area())\n",
        "print(NewCircle.perimeter())\n"
      ],
      "execution_count": 15,
      "outputs": [
        {
          "output_type": "stream",
          "text": [
            "200.96\n",
            "50.24\n"
          ],
          "name": "stdout"
        }
      ]
    },
    {
      "cell_type": "markdown",
      "metadata": {
        "id": "JAvq1fiWCJPW",
        "colab_type": "text"
      },
      "source": [
        "Q11. Write the Python program to get the class name of an instance in\n",
        "Python?"
      ]
    },
    {
      "cell_type": "code",
      "metadata": {
        "id": "kyDPF13LCJPW",
        "colab_type": "code",
        "colab": {
          "base_uri": "https://localhost:8080/",
          "height": 34
        },
        "outputId": "6d5379f8-0b62-4a6a-c8e2-3866f112da0e"
      },
      "source": [
        "import itertools\n",
        "x = itertools.cycle('ABCG')\n",
        "print(type(x).__name__)\n"
      ],
      "execution_count": 19,
      "outputs": [
        {
          "output_type": "stream",
          "text": [
            "cycle\n"
          ],
          "name": "stdout"
        }
      ]
    },
    {
      "cell_type": "markdown",
      "metadata": {
        "id": "k3LQJNI7CJPa",
        "colab_type": "text"
      },
      "source": [
        "Q12. Write the Python program to count the number of students of\n",
        "individual class?\n",
        "\n",
        "    Sample dataclasses = (\n",
        "    ('V', 1),\n",
        "    ('VI', 1),\n",
        "    ('V', 2),\n",
        "    ('VI', 2),\n",
        "    ('VI', 3),\n",
        "    ('VII', 1),\n",
        "    )\n",
        "    Expected OutputCounter({'VI': 3, 'V': 2, 'VII': 1})"
      ]
    },
    {
      "cell_type": "code",
      "metadata": {
        "id": "oONQ8cMvCJPb",
        "colab_type": "code",
        "colab": {
          "base_uri": "https://localhost:8080/",
          "height": 34
        },
        "outputId": "0659821b-f02d-46d9-969d-52947e273754"
      },
      "source": [
        "from collections import Counter\n",
        "classes = (\n",
        "    ('V', 1),\n",
        "    ('VI', 1),\n",
        "    ('V', 2),\n",
        "    ('VI', 2),\n",
        "    ('VI', 3),\n",
        "    ('VII', 1),\n",
        ")\n",
        "students = Counter(class_name for class_name, no_students in classes)\n",
        "print(students)\n"
      ],
      "execution_count": 20,
      "outputs": [
        {
          "output_type": "stream",
          "text": [
            "Counter({'VI': 3, 'V': 2, 'VII': 1})\n"
          ],
          "name": "stdout"
        }
      ]
    },
    {
      "cell_type": "markdown",
      "metadata": {
        "id": "b40zXBKmCJPg",
        "colab_type": "text"
      },
      "source": [
        "## Great Job!"
      ]
    }
  ]
}
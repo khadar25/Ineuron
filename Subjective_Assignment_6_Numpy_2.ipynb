{
  "nbformat": 4,
  "nbformat_minor": 0,
  "metadata": {
    "kernelspec": {
      "display_name": "Python 3",
      "language": "python",
      "name": "python3"
    },
    "language_info": {
      "codemirror_mode": {
        "name": "ipython",
        "version": 3
      },
      "file_extension": ".py",
      "mimetype": "text/x-python",
      "name": "python",
      "nbconvert_exporter": "python",
      "pygments_lexer": "ipython3",
      "version": "3.7.4"
    },
    "colab": {
      "name": "Subjective Assignment - 6 - Numpy 2.ipynb",
      "provenance": [],
      "collapsed_sections": []
    }
  },
  "cells": [
    {
      "cell_type": "markdown",
      "metadata": {
        "id": "vQn8S3BBesWW",
        "colab_type": "text"
      },
      "source": [
        "# Assignment"
      ]
    },
    {
      "cell_type": "markdown",
      "metadata": {
        "id": "RwVqutyDesWY",
        "colab_type": "text"
      },
      "source": [
        "Q1. Write the NumPy program to create an array of ones and an array\n",
        "of zeros?\n",
        "\n",
        "    Expected OutputCreate an array of zeros\n",
        "    Default type is float\n",
        "    [[ 0. 0.]]\n",
        "    Type changes to int\n",
        "    [[0 0]]\n",
        "    Create an array of ones\n",
        "    Default type is float\n",
        "    [[ 1. 1.]]\n",
        "    Type changes to int\n",
        "    [[1 1]]"
      ]
    },
    {
      "cell_type": "code",
      "metadata": {
        "id": "FNLq3_6FesWZ",
        "colab_type": "code",
        "colab": {
          "base_uri": "https://localhost:8080/",
          "height": 187
        },
        "outputId": "32534584-6f57-4df3-e163-f51cc9e6057b"
      },
      "source": [
        "import numpy as np\n",
        "print(\"Create an array of zeros\")\n",
        "x = np.zeros((1,2))\n",
        "print(\"Default type is float\")\n",
        "print(x)\n",
        "print(\"Type changes to int\")\n",
        "x = np.zeros((1,2), dtype = np.int)\n",
        "print(x)\n",
        "print(\"Create an array of ones\")\n",
        "y= np.ones((1,2)) \n",
        "print(\"Default type is float\")\n",
        "print(y)\n",
        "print(\"Type changes to int\")\n",
        "y = np.ones((1,2), dtype = np.int)\n",
        "print(y)\n"
      ],
      "execution_count": 1,
      "outputs": [
        {
          "output_type": "stream",
          "text": [
            "Create an array of zeros\n",
            "Default type is float\n",
            "[[0. 0.]]\n",
            "Type changes to int\n",
            "[[0 0]]\n",
            "Create an array of ones\n",
            "Default type is float\n",
            "[[1. 1.]]\n",
            "Type changes to int\n",
            "[[1 1]]\n"
          ],
          "name": "stdout"
        }
      ]
    },
    {
      "cell_type": "markdown",
      "metadata": {
        "id": "19TOqo_WesWf",
        "colab_type": "text"
      },
      "source": [
        "Q2. Write the NumPy program to change the dimension of an array?\n",
        "\n",
        "    Expected Output6 rows and 0 columns\n",
        "    (6,)\n",
        "    (3, 3) -> 3 rows and 3 columns\n",
        "    [[1 2 3]\n",
        "    [4 5 6]\n",
        "    [7 8 9]]\n",
        "    Change array shape to (3, 3) -> 3 rows and 3 columns\n",
        "    [[1 2 3]\n",
        "    [4 5 6]\n",
        "    [7 8 9]]"
      ]
    },
    {
      "cell_type": "code",
      "metadata": {
        "id": "FZyKS2ygesWg",
        "colab_type": "code",
        "colab": {
          "base_uri": "https://localhost:8080/",
          "height": 221
        },
        "outputId": "3ab794aa-9b3c-4865-e0af-104f9d3730f5"
      },
      "source": [
        "import numpy as np    \n",
        "x = np.arange(24).reshape((6,4))\n",
        "print(\"Original arrays:\")\n",
        "print(x)\n",
        "new_array = np.transpose(x)\n",
        "print(\"After reverse the dimensions:\")\n",
        "print(new_array)\n"
      ],
      "execution_count": 2,
      "outputs": [
        {
          "output_type": "stream",
          "text": [
            "Original arrays:\n",
            "[[ 0  1  2  3]\n",
            " [ 4  5  6  7]\n",
            " [ 8  9 10 11]\n",
            " [12 13 14 15]\n",
            " [16 17 18 19]\n",
            " [20 21 22 23]]\n",
            "After reverse the dimensions:\n",
            "[[ 0  4  8 12 16 20]\n",
            " [ 1  5  9 13 17 21]\n",
            " [ 2  6 10 14 18 22]\n",
            " [ 3  7 11 15 19 23]]\n"
          ],
          "name": "stdout"
        }
      ]
    },
    {
      "cell_type": "markdown",
      "metadata": {
        "id": "uT7oWs8GesWk",
        "colab_type": "text"
      },
      "source": [
        "Q3. Write the NumPy program to create a new shape to an array\n",
        "without changing its data ?\n",
        "\n",
        "    Reshape 3x2-\n",
        "    [[1 2]\n",
        "    [3 4]\n",
        "    [5 6]]\n",
        "    Reshape 2x3-\n",
        "    [[1 2 3]\n",
        "    [4 5 6]]"
      ]
    },
    {
      "cell_type": "code",
      "metadata": {
        "id": "zbgzwWQiesWl",
        "colab_type": "code",
        "colab": {
          "base_uri": "https://localhost:8080/",
          "height": 136
        },
        "outputId": "4db5ae6d-f21c-4539-aa11-6bb9b89e49d7"
      },
      "source": [
        "import numpy as np\n",
        "x = np.array([1, 2, 3, 4, 5, 6])\n",
        "y = np.reshape(x,(3,2))\n",
        "print(\"Reshape 3x2:\")\n",
        "print(y)\n",
        "z = np.reshape(x,(2,3))\n",
        "print(\"Reshape 2x3:\")\n",
        "print(z)\n"
      ],
      "execution_count": 3,
      "outputs": [
        {
          "output_type": "stream",
          "text": [
            "Reshape 3x2:\n",
            "[[1 2]\n",
            " [3 4]\n",
            " [5 6]]\n",
            "Reshape 2x3:\n",
            "[[1 2 3]\n",
            " [4 5 6]]\n"
          ],
          "name": "stdout"
        }
      ]
    },
    {
      "cell_type": "markdown",
      "metadata": {
        "id": "-grYwDfSesWp",
        "colab_type": "text"
      },
      "source": [
        "Q4. Write the NumPy program to create a new array of 3*5, filled with\n",
        "2?\n",
        "\n",
        "    Expected Output-\n",
        "    [[2 2 2 2 2]\n",
        "    [2 2 2 2 2]\n",
        "    [2 2 2 2 2]]\n",
        "    [[2 2 2 2 2]\n",
        "    [2 2 2 2 2]\n",
        "    [2 2 2 2 2]]"
      ]
    },
    {
      "cell_type": "code",
      "metadata": {
        "id": "tA6g4v7pesWq",
        "colab_type": "code",
        "colab": {
          "base_uri": "https://localhost:8080/",
          "height": 119
        },
        "outputId": "f04340fd-eb59-494e-ff90-b4e3ec165885"
      },
      "source": [
        "import numpy as np\n",
        "#using no.full\n",
        "x = np.full((3, 5), 2, dtype=np.uint)\n",
        "print(x)\n",
        "#using no.ones\n",
        "y = np.ones([3, 5], dtype=np.uint) *2\n",
        "print(y)\n"
      ],
      "execution_count": 4,
      "outputs": [
        {
          "output_type": "stream",
          "text": [
            "[[2 2 2 2 2]\n",
            " [2 2 2 2 2]\n",
            " [2 2 2 2 2]]\n",
            "[[2 2 2 2 2]\n",
            " [2 2 2 2 2]\n",
            " [2 2 2 2 2]]\n"
          ],
          "name": "stdout"
        }
      ]
    },
    {
      "cell_type": "markdown",
      "metadata": {
        "id": "TfRGWLqZesWv",
        "colab_type": "text"
      },
      "source": [
        "Q5. Write the NumPy program to create a 3-D array with ones on a\n",
        "diagonal and zeros elsewhere?\n",
        "\n",
        "    Expected Output-\n",
        "    [[ 1. 0. 0.]\n",
        "    [ 0. 1. 0.]\n",
        "    [ 0. 0. 1.]]"
      ]
    },
    {
      "cell_type": "code",
      "metadata": {
        "id": "uhru07__esWx",
        "colab_type": "code",
        "colab": {
          "base_uri": "https://localhost:8080/",
          "height": 68
        },
        "outputId": "f2d5a64a-bfac-44e2-f087-b45093ccdd00"
      },
      "source": [
        "import numpy as np\n",
        "x = np.eye(3)\n",
        "print(x)\n"
      ],
      "execution_count": 5,
      "outputs": [
        {
          "output_type": "stream",
          "text": [
            "[[1. 0. 0.]\n",
            " [0. 1. 0.]\n",
            " [0. 0. 1.]]\n"
          ],
          "name": "stdout"
        }
      ]
    },
    {
      "cell_type": "markdown",
      "metadata": {
        "id": "Fpf8vF7ResW1",
        "colab_type": "text"
      },
      "source": [
        "Q6. Write the NumPy program to split an array of 14 elements into the\n",
        "3 arrays and each of which has 2, 4, and 8 elements in original\n",
        "order?\n",
        "\n",
        "    Expected OutputOriginal array- [ 1 2 3 4 5 6 7 8 9 10 11 12 13 14]\n",
        "    After splitting-\n",
        "    [array([1, 2]), array([3, 4, 5, 6]), array([ 7, 8, 9, 10, 11, 12, 13, 14])]"
      ]
    },
    {
      "cell_type": "code",
      "metadata": {
        "id": "ycwaTLmpesW2",
        "colab_type": "code",
        "colab": {
          "base_uri": "https://localhost:8080/",
          "height": 68
        },
        "outputId": "d3ce11b2-4750-4f67-854e-0b556f5a7c7f"
      },
      "source": [
        "import numpy as np\n",
        "x = np.arange(1, 15)\n",
        "print(\"Original array:\",x)\n",
        "print(\"After splitting:\")\n",
        "print(np.split(x, [2, 6]))\n"
      ],
      "execution_count": 6,
      "outputs": [
        {
          "output_type": "stream",
          "text": [
            "Original array: [ 1  2  3  4  5  6  7  8  9 10 11 12 13 14]\n",
            "After splitting:\n",
            "[array([1, 2]), array([3, 4, 5, 6]), array([ 7,  8,  9, 10, 11, 12, 13, 14])]\n"
          ],
          "name": "stdout"
        }
      ]
    },
    {
      "cell_type": "markdown",
      "metadata": {
        "id": "JuWC7QTSesW6",
        "colab_type": "text"
      },
      "source": [
        "Q7. Write the NumPy program to split of an array of shape 4x4 it into\n",
        "two arrays along the second axis ?\n",
        "\n",
        "    Sample array -\n",
        "    [[ 0 1 2 3]\n",
        "    [ 4 5 6 7]\n",
        "    [ 8 9 10 11]\n",
        "    [12 13 14 15]]\n",
        "    Expected Output-\n",
        "    [array([[ 0, 1],\n",
        "    [ 4, 5],\n",
        "    [ 8, 9],\n",
        "    [12, 13]]), array([[ 2, 3],\n",
        "    [ 6, 7],\n",
        "    [10, 11],\n",
        "    [14, 15]]), array([], shape=(4, 0), dtype=int64)]"
      ]
    },
    {
      "cell_type": "code",
      "metadata": {
        "id": "wX83u-5CesW7",
        "colab_type": "code",
        "colab": {
          "base_uri": "https://localhost:8080/",
          "height": 221
        },
        "outputId": "05807c93-426f-4dc2-8032-d3e410fe08ed"
      },
      "source": [
        "import numpy as np\n",
        "x = np.arange(16).reshape((4, 4))\n",
        "print(\"Original array:\",x)\n",
        "print(\"After splitting horizontally:\")\n",
        "print(np.hsplit(x, [2, 6]))\n"
      ],
      "execution_count": 7,
      "outputs": [
        {
          "output_type": "stream",
          "text": [
            "Original array: [[ 0  1  2  3]\n",
            " [ 4  5  6  7]\n",
            " [ 8  9 10 11]\n",
            " [12 13 14 15]]\n",
            "After splitting horizontally:\n",
            "[array([[ 0,  1],\n",
            "       [ 4,  5],\n",
            "       [ 8,  9],\n",
            "       [12, 13]]), array([[ 2,  3],\n",
            "       [ 6,  7],\n",
            "       [10, 11],\n",
            "       [14, 15]]), array([], shape=(4, 0), dtype=int64)]\n"
          ],
          "name": "stdout"
        }
      ]
    },
    {
      "cell_type": "markdown",
      "metadata": {
        "id": "7RuvS4IuesW_",
        "colab_type": "text"
      },
      "source": [
        "Q8. Write the NumPy program to create a 5x5 matrix with row values\n",
        "ranging from 0 to 4?\n",
        "\n",
        "    Original array-\n",
        "    [[ 0. 0. 0. 0. 0.]\n",
        "    [ 0. 0. 0. 0. 0.]\n",
        "    [ 0. 0. 0. 0. 0.]\n",
        "    [ 0. 0. 0. 0. 0.]\n",
        "    [ 0. 0. 0. 0. 0.]]\n",
        "    Row values ranging from 0 to 4.\n",
        "    [[ 0. 1. 2. 3. 4.]\n",
        "    [ 0. 1. 2. 3. 4.]\n",
        "    [ 0. 1. 2. 3. 4.]\n",
        "    [ 0. 1. 2. 3. 4.]\n",
        "    [ 0. 1. 2. 3. 4.]]"
      ]
    },
    {
      "cell_type": "code",
      "metadata": {
        "id": "3GMf6RvResXA",
        "colab_type": "code",
        "colab": {
          "base_uri": "https://localhost:8080/",
          "height": 221
        },
        "outputId": "a983f4ae-1c4b-41e5-f3a7-58aac17b8e6e"
      },
      "source": [
        "import numpy as np\n",
        "x = np.zeros((5,5))\n",
        "print(\"Original array:\")\n",
        "print(x)\n",
        "print(\"Row values ranging from 0 to 4.\")\n",
        "x += np.arange(5)\n",
        "print(x)\n"
      ],
      "execution_count": 8,
      "outputs": [
        {
          "output_type": "stream",
          "text": [
            "Original array:\n",
            "[[0. 0. 0. 0. 0.]\n",
            " [0. 0. 0. 0. 0.]\n",
            " [0. 0. 0. 0. 0.]\n",
            " [0. 0. 0. 0. 0.]\n",
            " [0. 0. 0. 0. 0.]]\n",
            "Row values ranging from 0 to 4.\n",
            "[[0. 1. 2. 3. 4.]\n",
            " [0. 1. 2. 3. 4.]\n",
            " [0. 1. 2. 3. 4.]\n",
            " [0. 1. 2. 3. 4.]\n",
            " [0. 1. 2. 3. 4.]]\n"
          ],
          "name": "stdout"
        }
      ]
    },
    {
      "cell_type": "markdown",
      "metadata": {
        "id": "7aETzqM7esXE",
        "colab_type": "text"
      },
      "source": [
        "Q9. Write the NumPy program to create an array of zeros and three\n",
        "column types (integer, float, character)?\n",
        "\n",
        "    Expected Output-\n",
        "    [(1, 2., b'Albert Einstein') (2, 2., b'Edmond Halley')\n",
        "    (3, 3., b'Gertrude B. Elion')]"
      ]
    },
    {
      "cell_type": "code",
      "metadata": {
        "id": "FhppexVLesXF",
        "colab_type": "code",
        "colab": {
          "base_uri": "https://localhost:8080/",
          "height": 51
        },
        "outputId": "2cf6d226-34f2-458c-bc86-753072ad9d4d"
      },
      "source": [
        "import numpy as np\n",
        "x = np.zeros((3,), dtype=('i4,f4,a40'))\n",
        "new_data = [(1, 2., \"Albert Einstein\"), (2, 2., \"Edmond Halley\"), (3, 3., \"Gertrude B. Elion\")]\n",
        "x[:] = new_data\n",
        "print(x)\n"
      ],
      "execution_count": 9,
      "outputs": [
        {
          "output_type": "stream",
          "text": [
            "[(1, 2., b'Albert Einstein') (2, 2., b'Edmond Halley')\n",
            " (3, 3., b'Gertrude B. Elion')]\n"
          ],
          "name": "stdout"
        }
      ]
    },
    {
      "cell_type": "markdown",
      "metadata": {
        "id": "naG1RN8eesXK",
        "colab_type": "text"
      },
      "source": [
        "Q10. Write the NumPy program to remove the negative values in the\n",
        "numpy array with 0?\n",
        "\n",
        "    Expected OutputOriginal array:\n",
        "    [-1 -4 0 2 3 4 5 -6]\n",
        "    Replace the negative values of the said array with 0-\n",
        "    [0 0 0 2 3 4 5 0]"
      ]
    },
    {
      "cell_type": "code",
      "metadata": {
        "id": "XZe4qpD9esXL",
        "colab_type": "code",
        "colab": {
          "base_uri": "https://localhost:8080/",
          "height": 85
        },
        "outputId": "fc9281a7-e97e-4c91-bb6e-876aafe46a9d"
      },
      "source": [
        "import numpy as np\n",
        "x = np.array([-1, -4, 0, 2, 3, 4, 5, -6])\n",
        "print(\"Original array:\")\n",
        "print(x)\n",
        "print(\"Replace the negative values of the said array with 0:\")\n",
        "x[x < 0] = 0\n",
        "print(x)\n"
      ],
      "execution_count": 10,
      "outputs": [
        {
          "output_type": "stream",
          "text": [
            "Original array:\n",
            "[-1 -4  0  2  3  4  5 -6]\n",
            "Replace the negative values of the said array with 0:\n",
            "[0 0 0 2 3 4 5 0]\n"
          ],
          "name": "stdout"
        }
      ]
    },
    {
      "cell_type": "markdown",
      "metadata": {
        "id": "52MC-z-resXS",
        "colab_type": "text"
      },
      "source": [
        "Q11. Write the NumPy program to compute the histogram of a set of\n",
        "data?"
      ]
    },
    {
      "cell_type": "code",
      "metadata": {
        "id": "DVsrKzWDesXT",
        "colab_type": "code",
        "colab": {
          "base_uri": "https://localhost:8080/",
          "height": 265
        },
        "outputId": "efc703dd-3d91-40f1-cf06-e0791a0b9f51"
      },
      "source": [
        "import numpy as np    \n",
        "import matplotlib.pyplot as plt\n",
        "plt.hist([1, 2, 1], bins=[0, 1, 2, 3, 5])\n",
        "plt.show()\n"
      ],
      "execution_count": 11,
      "outputs": [
        {
          "output_type": "display_data",
          "data": {
            "image/png": "[encoded data removed]",
            "text/plain": [
              "<Figure size 432x288 with 1 Axes>"
            ]
          },
          "metadata": {
            "tags": [],
            "needs_background": "light"
          }
        }
      ]
    },
    {
      "cell_type": "markdown",
      "metadata": {
        "id": "aySmcz3qesXW",
        "colab_type": "text"
      },
      "source": [
        "Q12. Write the NumPy program to compute the line graph of a set of\n",
        "data?"
      ]
    },
    {
      "cell_type": "code",
      "metadata": {
        "id": "_X7rjtUeesXX",
        "colab_type": "code",
        "colab": {
          "base_uri": "https://localhost:8080/",
          "height": 265
        },
        "outputId": "ae947776-8567-474c-e432-96db49bd3b64"
      },
      "source": [
        "import numpy as np    \n",
        "import matplotlib.pyplot as plt\n",
        "arr = np.random.randint(1, 50, 10)\n",
        "y, x = np.histogram(arr, bins=np.arange(51))\n",
        "fig, ax = plt.subplots()\n",
        "ax.plot(x[:-1], y)\n",
        "fig.show()\n"
      ],
      "execution_count": 12,
      "outputs": [
        {
          "output_type": "display_data",
          "data": {
            "image/png": "[encoded data removed]",
            "text/plain": [
              "<Figure size 432x288 with 1 Axes>"
            ]
          },
          "metadata": {
            "tags": [],
            "needs_background": "light"
          }
        }
      ]
    },
    {
      "cell_type": "markdown",
      "metadata": {
        "id": "j0S13QKaesXb",
        "colab_type": "text"
      },
      "source": [
        "Q13. Write the NumPy program to extracts all the elements from second\n",
        "row from given (4x4) array?\n",
        "    \n",
        "    Sample OutputOriginal array-\n",
        "    [[ 0 1 2 3]\n",
        "    [ 4 5 6 7]\n",
        "    [ 8 9 10 11]\n",
        "    [12 13 14 15]]\n",
        "    Extracted data- Second row\n",
        "    [4 5 6 7]"
      ]
    },
    {
      "cell_type": "code",
      "metadata": {
        "id": "qkrl5yQWesXd",
        "colab_type": "code",
        "colab": {
          "base_uri": "https://localhost:8080/",
          "height": 153
        },
        "outputId": "f54f477a-4c9b-4779-eecc-569cfcf4aa01"
      },
      "source": [
        "import numpy as np\n",
        "arra_data = np.arange(0,16).reshape((4, 4))\n",
        "print(\"Original array:\")\n",
        "print(arra_data)\n",
        "print(\"\\nExtracted data: Second row\")\n",
        "print(arra_data[1,:])\n"
      ],
      "execution_count": 13,
      "outputs": [
        {
          "output_type": "stream",
          "text": [
            "Original array:\n",
            "[[ 0  1  2  3]\n",
            " [ 4  5  6  7]\n",
            " [ 8  9 10 11]\n",
            " [12 13 14 15]]\n",
            "\n",
            "Extracted data: Second row\n",
            "[4 5 6 7]\n"
          ],
          "name": "stdout"
        }
      ]
    },
    {
      "cell_type": "markdown",
      "metadata": {
        "id": "JtcEzw_IesXg",
        "colab_type": "text"
      },
      "source": [
        "Q14. Write the NumPy program to extract first element of the second\n",
        "row and fourth element of fourth row from a given (4x4) array?\n",
        "\n",
        "    Sample OutputOriginal array-\n",
        "    [[ 0 1 2 3]\n",
        "    [ 4 5 6 7]\n",
        "    [ 8 9 10 11]\n",
        "    [12 13 14 15]]\n",
        "    Extracted data- First element of the second row and fourth element of fourth row\n",
        "    [ 4 15]\n"
      ]
    },
    {
      "cell_type": "code",
      "metadata": {
        "id": "cm_jW6RresXh",
        "colab_type": "code",
        "colab": {
          "base_uri": "https://localhost:8080/",
          "height": 153
        },
        "outputId": "50e39cc0-65d8-4918-d091-a585a25b1360"
      },
      "source": [
        "import numpy as np\n",
        "arra_data = np.arange(0,16).reshape((4, 4))\n",
        "print(\"Original array:\")\n",
        "print(arra_data)\n",
        "print(\"\\nExtracted data: First element of the second row and fourth element of fourth row  \")\n",
        "print(arra_data[[1,3], [0,3]])\n"
      ],
      "execution_count": 14,
      "outputs": [
        {
          "output_type": "stream",
          "text": [
            "Original array:\n",
            "[[ 0  1  2  3]\n",
            " [ 4  5  6  7]\n",
            " [ 8  9 10 11]\n",
            " [12 13 14 15]]\n",
            "\n",
            "Extracted data: First element of the second row and fourth element of fourth row  \n",
            "[ 4 15]\n"
          ],
          "name": "stdout"
        }
      ]
    },
    {
      "cell_type": "markdown",
      "metadata": {
        "id": "RqP56T7DesXm",
        "colab_type": "text"
      },
      "source": [
        "Q15. Write the NumPy program to add two arrays A and B of sizes (3,3)\n",
        "and (,3)?\n",
        "\n",
        "    Sample OutputOriginal arrayArray-1\n",
        "    [[1 1 1]\n",
        "    [1 1 1]\n",
        "    [1 1 1]]\n",
        "    Array-2\n",
        "    [0 1 2]\n",
        "    A + B:\n",
        "    [[1 2 3]\n",
        "    [1 2 3]\n",
        "    [1 2 3]]"
      ]
    },
    {
      "cell_type": "code",
      "metadata": {
        "id": "e1V03e6yesXn",
        "colab_type": "code",
        "colab": {
          "base_uri": "https://localhost:8080/",
          "height": 204
        },
        "outputId": "d0163092-2f6e-41a6-8de0-62bc6cddaba4"
      },
      "source": [
        "import numpy as np\n",
        "A = np.ones((3,3))\n",
        "B = np.arange(3)\n",
        "print(\"Original array:\")\n",
        "print(\"Array-1\")\n",
        "print(A)\n",
        "print(\"Array-2\")\n",
        "print(B)\n",
        "print(\"A + B:\")\n",
        "new_array = A + B\n",
        "print(new_array)\n"
      ],
      "execution_count": 15,
      "outputs": [
        {
          "output_type": "stream",
          "text": [
            "Original array:\n",
            "Array-1\n",
            "[[1. 1. 1.]\n",
            " [1. 1. 1.]\n",
            " [1. 1. 1.]]\n",
            "Array-2\n",
            "[0 1 2]\n",
            "A + B:\n",
            "[[1. 2. 3.]\n",
            " [1. 2. 3.]\n",
            " [1. 2. 3.]]\n"
          ],
          "name": "stdout"
        }
      ]
    },
    {
      "cell_type": "markdown",
      "metadata": {
        "id": "Cok3jpOVesXr",
        "colab_type": "text"
      },
      "source": [
        "Q16. Write the NumPy program to copy data from a given array to\n",
        "another array?\n",
        "\n",
        "    Sample OutputOriginal array-\n",
        "    [24 27 30 29 18 14]\n",
        "    Copy of the said array-\n",
        "    [24 27 30 29 18 14]"
      ]
    },
    {
      "cell_type": "code",
      "metadata": {
        "id": "xv6lyvQResXt",
        "colab_type": "code",
        "colab": {
          "base_uri": "https://localhost:8080/",
          "height": 102
        },
        "outputId": "7bcde7d9-6fce-4912-dbc0-0ae8780b206c"
      },
      "source": [
        "import numpy as np\n",
        "x = np.array([24, 27, 30, 29, 18, 14])\n",
        "print(\"Original array:\")\n",
        "print(x)\n",
        "y = np.empty_like (x)\n",
        "y[:] = x\n",
        "print(\"\\nCopy of the said array:\")\n",
        "print(y)\n"
      ],
      "execution_count": 16,
      "outputs": [
        {
          "output_type": "stream",
          "text": [
            "Original array:\n",
            "[24 27 30 29 18 14]\n",
            "\n",
            "Copy of the said array:\n",
            "[24 27 30 29 18 14]\n"
          ],
          "name": "stdout"
        }
      ]
    },
    {
      "cell_type": "markdown",
      "metadata": {
        "id": "7lBJKXFYesXx",
        "colab_type": "text"
      },
      "source": [
        "Q17. Write the NumPy program to calculate the sum of all columns of\n",
        "the 2D numpy array?\n",
        "    \n",
        "    Sample OutputOriginal array-\n",
        "    [[ 0 1 2 3 4 5 6 7 8]\n",
        "    [ 9 10 11 12 13 14 15 16 17]\n",
        "    [18 19 20 21 22 23 24 25 26]\n",
        "    [27 28 29 30 31 32 33 34 35]]\n",
        "    Sum of all columns-\n",
        "    [54 58 62 66 70 74 78 82 86]"
      ]
    },
    {
      "cell_type": "code",
      "metadata": {
        "id": "aC2UNxzResXy",
        "colab_type": "code",
        "colab": {
          "base_uri": "https://localhost:8080/",
          "height": 153
        },
        "outputId": "3d310e49-14b2-4fdf-a370-d423055750ca"
      },
      "source": [
        "import numpy as np\n",
        "num = np.arange(36)\n",
        "arr1 = np.reshape(num, [4, 9])\n",
        "print(\"Original array:\")\n",
        "print(arr1)\n",
        "result  = arr1.sum(axis=0)\n",
        "print(\"\\nSum of all columns:\")\n",
        "print(result)\n"
      ],
      "execution_count": 17,
      "outputs": [
        {
          "output_type": "stream",
          "text": [
            "Original array:\n",
            "[[ 0  1  2  3  4  5  6  7  8]\n",
            " [ 9 10 11 12 13 14 15 16 17]\n",
            " [18 19 20 21 22 23 24 25 26]\n",
            " [27 28 29 30 31 32 33 34 35]]\n",
            "\n",
            "Sum of all columns:\n",
            "[54 58 62 66 70 74 78 82 86]\n"
          ],
          "name": "stdout"
        }
      ]
    },
    {
      "cell_type": "markdown",
      "metadata": {
        "id": "3Y2oZUcAesX1",
        "colab_type": "text"
      },
      "source": [
        "Q18. Write the NumPy program to calculate averages without NaNs\n",
        "along the given array?\n",
        "    \n",
        "    Sample OutputOriginal array-\n",
        "    [[10. 20. 30.]\n",
        "    [40. 50. nan]\n",
        "    [nan 6. nan]\n",
        "    [nan nan nan]]\n",
        "    Averages without NaNs along the said array-\n",
        "    [20. 45. 6. nan]"
      ]
    },
    {
      "cell_type": "code",
      "metadata": {
        "id": "X9DheuJ7esX2",
        "colab_type": "code",
        "colab": {
          "base_uri": "https://localhost:8080/",
          "height": 136
        },
        "outputId": "f0a39129-abc7-4a3c-8226-c572fb76e2fb"
      },
      "source": [
        "import numpy as np\n",
        "arr1 = np.array([[10, 20 ,30], [40, 50, np.nan], [np.nan, 6, np.nan], [np.nan, np.nan, np.nan]])\n",
        "print(\"Original array:\")\n",
        "print(arr1)\n",
        "temp = np.ma.masked_array(arr1,np.isnan(arr1))\n",
        "result = np.mean(temp, axis=1)\n",
        "print(\"Averages without NaNs along the said array:\")\n",
        "print(result.filled(np.nan))\n"
      ],
      "execution_count": 18,
      "outputs": [
        {
          "output_type": "stream",
          "text": [
            "Original array:\n",
            "[[10. 20. 30.]\n",
            " [40. 50. nan]\n",
            " [nan  6. nan]\n",
            " [nan nan nan]]\n",
            "Averages without NaNs along the said array:\n",
            "[20. 45.  6. nan]\n"
          ],
          "name": "stdout"
        }
      ]
    },
    {
      "cell_type": "markdown",
      "metadata": {
        "id": "0eS37I7IesX5",
        "colab_type": "text"
      },
      "source": [
        "## Great Job!"
      ]
    }
  ]
}
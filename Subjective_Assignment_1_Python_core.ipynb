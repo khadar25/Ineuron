{
  "nbformat": 4,
  "nbformat_minor": 0,
  "metadata": {
    "kernelspec": {
      "display_name": "Python 3",
      "language": "python",
      "name": "python3"
    },
    "language_info": {
      "codemirror_mode": {
        "name": "ipython",
        "version": 3
      },
      "file_extension": ".py",
      "mimetype": "text/x-python",
      "name": "python",
      "nbconvert_exporter": "python",
      "pygments_lexer": "ipython3",
      "version": "3.7.4"
    },
    "colab": {
      "name": " Subjective Assignment - 1- Python core.ipynb",
      "provenance": [],
      "collapsed_sections": []
    }
  },
  "cells": [
    {
      "cell_type": "markdown",
      "metadata": {
        "id": "x-DMVxQbNcD6",
        "colab_type": "text"
      },
      "source": [
        "Q1. Write a Python program to get the string from the given string where\n",
        "all the occurrence of its first char has been changed to '$,' except first\n",
        "char itself?\n",
        "\n",
        "    Sample String: 'prospect'\n",
        "    Expected Result : 'pros$ect'\n"
      ]
    },
    {
      "cell_type": "code",
      "metadata": {
        "id": "OwLeV6VqOGPs",
        "colab_type": "code",
        "outputId": "26366f43-d358-4262-d3d6-97340564d7fc",
        "colab": {
          "base_uri": "https://localhost:8080/",
          "height": 34
        }
      },
      "source": [
        "str= \"prospect\"\n",
        "str.replace(str[0],'$')\n",
        "flag=0\n",
        "str2 = '';\n",
        "for char in str:\n",
        "  if flag ==0:\n",
        "    fstr=char\n",
        "    flag=1\n",
        "  else:\n",
        "    if(char==fstr):\n",
        "      char='$'\n",
        "  str2+=char\n",
        "str2  "
      ],
      "execution_count": 0,
      "outputs": [
        {
          "output_type": "execute_result",
          "data": {
            "text/plain": [
              "'pros$ect'"
            ]
          },
          "metadata": {
            "tags": []
          },
          "execution_count": 11
        }
      ]
    },
    {
      "cell_type": "markdown",
      "metadata": {
        "id": "RVCrfO1bNcEB",
        "colab_type": "text"
      },
      "source": [
        "Q2. Write a Python program to get the single string from the two given\n",
        "strings, and separated by the space and swap the first two characters of\n",
        "each string?\n",
        "\n",
        "    Sample String : 'abc', 'xyz'.\n",
        "    Expected Result: 'xyc abz'"
      ]
    },
    {
      "cell_type": "code",
      "metadata": {
        "id": "GF5ed-YTNcEC",
        "colab_type": "code",
        "outputId": "5aaac8b9-5360-4998-8a2c-d5b27591bb28",
        "colab": {
          "base_uri": "https://localhost:8080/",
          "height": 34
        }
      },
      "source": [
        "def string_process(str1,str2):\n",
        "  final_str=str2[0:-1]+str1[2]+' '+str1[0:-1]+str2[2]\n",
        "  return final_str\n",
        "str= string_process('abc','xyz')\n",
        "str"
      ],
      "execution_count": 0,
      "outputs": [
        {
          "output_type": "execute_result",
          "data": {
            "text/plain": [
              "'xyc abz'"
            ]
          },
          "metadata": {
            "tags": []
          },
          "execution_count": 23
        }
      ]
    },
    {
      "cell_type": "markdown",
      "metadata": {
        "id": "V9dZEJV2NcEH",
        "colab_type": "text"
      },
      "source": [
        "Q3. Write the Python program to add 'ing' at the end of the given string\n",
        "(length of the string should be at least 3). If given string already ends\n",
        "with 'ing,' then add 'ly' instead. If string length of the given string is less\n",
        "than 3, leave it unchanged?\n",
        "\n",
        "\n",
        "    Sample string: ' abc '\n",
        "    Expected result: ' abcing '\n",
        "    Sample string: ' string '\n",
        "    Expected result: ' stringly '\n"
      ]
    },
    {
      "cell_type": "code",
      "metadata": {
        "id": "wgREsOHbNcEI",
        "colab_type": "code",
        "outputId": "d9918580-1832-4d4c-8dcc-d607ea4376a7",
        "colab": {
          "base_uri": "https://localhost:8080/",
          "height": 68
        }
      },
      "source": [
        "def str_valid(str1):\n",
        "  if len(str1) < 3:\n",
        "    return str1\n",
        "  elif len(str1) >= 3:\n",
        "    str2=str1[-3:]\n",
        "    if str2 == 'ing':\n",
        "      return str1+'ly'\n",
        "    else:\n",
        "      return str1+'ing'\n",
        "str1=str_valid(\"string\")\n",
        "print(str1)\n",
        "str2=str_valid(\"abc\")\n",
        "print (str2)\n",
        "str3=str_valid(\"ab\")\n",
        "print (str3)"
      ],
      "execution_count": 0,
      "outputs": [
        {
          "output_type": "stream",
          "text": [
            "stringly\n",
            "abcing\n",
            "ab\n"
          ],
          "name": "stdout"
        }
      ]
    },
    {
      "cell_type": "markdown",
      "metadata": {
        "id": "255Uuuf0NcEM",
        "colab_type": "text"
      },
      "source": [
        "Q4. Write the Python program to find the first appearance of the\n",
        "substring 'not' and 'poor' from the given string, if 'not' follows the 'poor',\n",
        "replace the whole 'not'...' poor' substring with 'good'.Return the resulting\n",
        "string.\n",
        "\n",
        "    Sample string: 'The lyrics are not that poor!'\n",
        "    'The lyrics are poor!'\n",
        "    Expected Result: 'The lyrics are good!'\n",
        "    'The lyrics are poor!'"
      ]
    },
    {
      "cell_type": "code",
      "metadata": {
        "id": "ZhgQF3PBNcEO",
        "colab_type": "code",
        "outputId": "e04756eb-6350-4b1c-8197-474b70d15af9",
        "colab": {
          "base_uri": "https://localhost:8080/",
          "height": 51
        }
      },
      "source": [
        "def str_validation(str):\n",
        "  flag=0\n",
        "  str2=\"\"\n",
        "  for char in str1.split(' '):\n",
        "    if ((char != 'not') & (flag==0) & (char != \"good!\")):\n",
        "      str2 +=char+' '\n",
        "    elif ((char == 'not') | (flag==0) | (char == 'good!')) :\n",
        "      str2+='poor'\n",
        "      flag=1\n",
        "  return str2\n",
        "\n",
        "str2=str_validation('The lyrics are good!')\n",
        "str3=str_validation('The lyrics are not that poor!')\n",
        "     \n",
        "     \n",
        "print(str2)\n",
        "print(str3)"
      ],
      "execution_count": 0,
      "outputs": [
        {
          "output_type": "stream",
          "text": [
            "The lyrics are poor\n",
            "The lyrics are poor\n"
          ],
          "name": "stdout"
        }
      ]
    },
    {
      "cell_type": "markdown",
      "metadata": {
        "id": "1g3zNhlINcES",
        "colab_type": "text"
      },
      "source": [
        "Q5. Write the Python program to remove the characters which have odd\n",
        "index values of a given string."
      ]
    },
    {
      "cell_type": "code",
      "metadata": {
        "id": "WUQs047OgKQF",
        "colab_type": "code",
        "outputId": "d9ab6b94-0eb2-487d-8a33-5cfc2f852e02",
        "colab": {
          "base_uri": "https://localhost:8080/",
          "height": 34
        }
      },
      "source": [
        "def odd_values_string(str):\n",
        "  result = \"\" \n",
        "  for i in range(len(str)):\n",
        "    if i % 2 == 0:\n",
        "      result = result + str[i]\n",
        "  return result\n",
        "str2=odd_values_string('TomAndjerry')\n",
        "str2"
      ],
      "execution_count": 0,
      "outputs": [
        {
          "output_type": "execute_result",
          "data": {
            "text/plain": [
              "'Tmnjry'"
            ]
          },
          "metadata": {
            "tags": []
          },
          "execution_count": 93
        }
      ]
    },
    {
      "cell_type": "markdown",
      "metadata": {
        "id": "y3K-esgBNcEZ",
        "colab_type": "text"
      },
      "source": [
        "Q6. Write the python program to print the following floating numbers up\n",
        "to 2 decimal places?"
      ]
    },
    {
      "cell_type": "code",
      "metadata": {
        "id": "jSbtgcr2NcEa",
        "colab_type": "code",
        "outputId": "61d64014-83dc-405c-92da-a9e3adde7bb2",
        "colab": {
          "base_uri": "https://localhost:8080/",
          "height": 34
        }
      },
      "source": [
        "def  roundoff(value):\n",
        "  return \"Formatted Number: \"+\"{:.2f}\".format(value)\n",
        "val=roundoff(3.2345)\n",
        "val"
      ],
      "execution_count": 0,
      "outputs": [
        {
          "output_type": "execute_result",
          "data": {
            "text/plain": [
              "'Formatted Number: 3.23'"
            ]
          },
          "metadata": {
            "tags": []
          },
          "execution_count": 95
        }
      ]
    },
    {
      "cell_type": "markdown",
      "metadata": {
        "id": "fIPXZHUANcEe",
        "colab_type": "text"
      },
      "source": [
        "Q7. Write the Python program to format a number with a percentage?"
      ]
    },
    {
      "cell_type": "code",
      "metadata": {
        "id": "WJl9xtN9NcEf",
        "colab_type": "code",
        "outputId": "3cf776b2-cf16-4668-e1c7-591898b2879f",
        "colab": {
          "base_uri": "https://localhost:8080/",
          "height": 51
        }
      },
      "source": [
        "def format_percentage(value):\n",
        "  return \"Formatted Number with percentage: \"+\"{:.2%}\".format(value)\n",
        "\n",
        "x=format_percentage(2.3)\n",
        "y=format_percentage(0.2)\n",
        "print(x)\n",
        "print(y)"
      ],
      "execution_count": 0,
      "outputs": [
        {
          "output_type": "stream",
          "text": [
            "Formatted Number with percentage: 230.00%\n",
            "Formatted Number with percentage: 20.00%\n"
          ],
          "name": "stdout"
        }
      ]
    },
    {
      "cell_type": "markdown",
      "metadata": {
        "id": "ZsfOne3JNcEj",
        "colab_type": "text"
      },
      "source": [
        "Q8. Write the Python program to count occurrences of a substring in a\n",
        "String?"
      ]
    },
    {
      "cell_type": "code",
      "metadata": {
        "id": "WKmoR37aNcEk",
        "colab_type": "code",
        "outputId": "e074c40d-88ac-4452-81b1-533f7ddf3a19",
        "colab": {
          "base_uri": "https://localhost:8080/",
          "height": 34
        }
      },
      "source": [
        "def count_subString(str1,str2):\n",
        "  return str1.count(str2)\n",
        "str1=count_subString(\"rain rain go away\",'rain')\n",
        "str1"
      ],
      "execution_count": 0,
      "outputs": [
        {
          "output_type": "execute_result",
          "data": {
            "text/plain": [
              "2"
            ]
          },
          "metadata": {
            "tags": []
          },
          "execution_count": 101
        }
      ]
    },
    {
      "cell_type": "markdown",
      "metadata": {
        "id": "iOalosLWNcEp",
        "colab_type": "text"
      },
      "source": [
        "Q9. Write the Python program to count repeated characters in a string.\n",
        "\n",
        "    Sample string: ' thequickbrownjumpsoverthelazydog '\n",
        "    \n",
        "    Expected output:\n",
        "    o 3\n",
        "    e 3\n",
        "    u 2\n",
        "    h 2\n",
        "    r 2\n",
        "    t 2"
      ]
    },
    {
      "cell_type": "code",
      "metadata": {
        "id": "IobCvUWANcEq",
        "colab_type": "code",
        "outputId": "f3f77cfb-dd55-40e6-d09c-07e7fbe1654e",
        "colab": {
          "base_uri": "https://localhost:8080/",
          "height": 119
        }
      },
      "source": [
        "import collections\n",
        "str1 = 'thequickbrownfoxjumpsoverthelazydog'\n",
        "d = collections.defaultdict(int)\n",
        "for c in str1:\n",
        "    d[c] += 1\n",
        "\n",
        "for c in sorted(d, key=d.get, reverse=True):\n",
        "  if d[c] > 1:\n",
        "      print('%s %d' % (c, d[c]))\n",
        "\n"
      ],
      "execution_count": 0,
      "outputs": [
        {
          "output_type": "stream",
          "text": [
            "o 4\n",
            "e 3\n",
            "t 2\n",
            "h 2\n",
            "u 2\n",
            "r 2\n"
          ],
          "name": "stdout"
        }
      ]
    },
    {
      "cell_type": "markdown",
      "metadata": {
        "id": "aRYV9c02NcEv",
        "colab_type": "text"
      },
      "source": [
        "Q10. Write the Python program to print the square and cube symbol in\n",
        "the area of a rectangle and volume of a cylinder?\n",
        "\n",
        "    Sample outputThe area of the rectangle is 1256.66cm2\n",
        "    The volume of the cylinder is 1254.725cm3\n"
      ]
    },
    {
      "cell_type": "code",
      "metadata": {
        "id": "8nSFASigNcEv",
        "colab_type": "code",
        "outputId": "b4da554a-5b72-4944-e94a-e920fa1ccbf5",
        "colab": {
          "base_uri": "https://localhost:8080/",
          "height": 51
        }
      },
      "source": [
        "area = 1256.66\n",
        "volume = 1254.725\n",
        "decimals = 2\n",
        "print(\"The area of the rectangle is {0:.{1}f}cm\\u00b2\".format(area, decimals))\n",
        "decimals = 3\n",
        "print(\"The volume of the cylinder is {0:.{1}f}cm\\u00b3\".format(volume, decimals))"
      ],
      "execution_count": 0,
      "outputs": [
        {
          "output_type": "stream",
          "text": [
            "The area of the rectangle is 1256.66cm²\n",
            "The volume of the cylinder is 1254.725cm³\n"
          ],
          "name": "stdout"
        }
      ]
    },
    {
      "cell_type": "markdown",
      "metadata": {
        "id": "9yekDoJjNcEz",
        "colab_type": "text"
      },
      "source": [
        "Q11. Write the Python program to check if a string contains all letters of\n",
        "the alphabet?"
      ]
    },
    {
      "cell_type": "code",
      "metadata": {
        "id": "J15hx-Y8NcE3",
        "colab_type": "code",
        "outputId": "b5814b17-b7f5-4061-a74f-a1b93954e06d",
        "colab": {
          "base_uri": "https://localhost:8080/",
          "height": 51
        }
      },
      "source": [
        "import string\n",
        "alphabet = set(string.ascii_lowercase)\n",
        "input_string = 'The quick brown fox jumps over the lazy dog'\n",
        "print(set(input_string.lower()) >= alphabet)\n",
        "input_string = 'The quick brown fox jumps over the dog'\n",
        "print(set(input_string.lower()) >= alphabet)\n"
      ],
      "execution_count": 0,
      "outputs": [
        {
          "output_type": "stream",
          "text": [
            "True\n",
            "False\n"
          ],
          "name": "stdout"
        }
      ]
    },
    {
      "cell_type": "markdown",
      "metadata": {
        "id": "LYew4DwQNcE6",
        "colab_type": "text"
      },
      "source": [
        "Q12. Write the Python program to find the second most repeated word\n",
        "in a given string?"
      ]
    },
    {
      "cell_type": "code",
      "metadata": {
        "id": "VjyZJKPKNcE7",
        "colab_type": "code",
        "outputId": "c588d769-a4b2-477a-84e2-91ab6fdc6209",
        "colab": {
          "base_uri": "https://localhost:8080/",
          "height": 51
        }
      },
      "source": [
        "def word_count(str):\n",
        "    counts = dict()\n",
        "    words = str.split()\n",
        "\n",
        "    for word in words:\n",
        "        if word in counts:\n",
        "            counts[word] += 1\n",
        "        else:\n",
        "            counts[word] = 1\n",
        "\n",
        "    counts_x = sorted(counts.items(), key=lambda kv: kv[1])\n",
        "    print(counts_x)\n",
        "    return counts_x[-2]\n",
        " \n",
        "print(word_count(\"johnny johnny johnny yes papa eating sugar no papa telling lies no papa\"))\n"
      ],
      "execution_count": 0,
      "outputs": [
        {
          "output_type": "stream",
          "text": [
            "[('yes', 1), ('eating', 1), ('sugar', 1), ('telling', 1), ('lies', 1), ('no', 2), ('johnny', 3), ('papa', 3)]\n",
            "('johnny', 3)\n"
          ],
          "name": "stdout"
        }
      ]
    },
    {
      "cell_type": "markdown",
      "metadata": {
        "id": "27YBKg3INcFA",
        "colab_type": "text"
      },
      "source": [
        "Q13. Write the Python program to find the minimum window in the given\n",
        "string, which will contains all the characters of another given\n",
        "strings?\n",
        "\n",
        "    Example 1\n",
        "    Input : string1 = \" PRWSOERIUSFK \"\n",
        "    string2 = \" OSU \"\n",
        "    Output: Minimum window is \"OERIUS\""
      ]
    },
    {
      "cell_type": "code",
      "metadata": {
        "id": "inLnp9HfNcFA",
        "colab_type": "code",
        "colab": {}
      },
      "source": [
        ""
      ],
      "execution_count": 0,
      "outputs": []
    },
    {
      "cell_type": "markdown",
      "metadata": {
        "id": "u-PKFj8iNcFF",
        "colab_type": "text"
      },
      "source": [
        "Q14. Write the Python program to count number of substrings from a\n",
        "given string of lowercase alphabets with exactly k distinct (given)\n",
        "characters?\n",
        "\n",
        "    Input a string (lowercase alphabets): wolf\n",
        "    Input k: 4\n",
        "    Number of substrings with exactly 4 distinct characters: 1"
      ]
    },
    {
      "cell_type": "code",
      "metadata": {
        "id": "EpVk1B_XNcFG",
        "colab_type": "code",
        "outputId": "8a6029ca-1be8-4bf8-f9b3-b8dbcd482a51",
        "colab": {
          "base_uri": "https://localhost:8080/",
          "height": 68
        }
      },
      "source": [
        "def count_k_dist(str1, k): \n",
        "\tstr_len = len(str1) \n",
        "\tresult = 0\n",
        "\tctr = [0] * 27\n",
        "\tfor i in range(0, str_len): \n",
        "\t\tdist_ctr = 0\n",
        "\t\tctr = [0] * 27\n",
        "\t\tfor j in range(i, str_len): \n",
        "\t\t\tif(ctr[ord(str1[j]) - 97] == 0): \n",
        "\t\t\t\tdist_ctr += 1\n",
        "\t\t\tctr[ord(str1[j]) - 97] += 1\n",
        "\t\t\tif(dist_ctr == k): \n",
        "\t\t\t\tresult += 1\n",
        "\t\t\tif(dist_ctr > k): \n",
        "\t\t\t\tbreak\n",
        "\n",
        "\treturn result \n",
        "\n",
        "str1 = input(\"Input a string (lowercase alphabets):\")\n",
        "k = int(input(\"Input k: \"))\n",
        "print(\"Number of substrings with exactly\", k, \"distinct characters : \", end = \"\") \n",
        "print(count_k_dist(str1, k))\n"
      ],
      "execution_count": 0,
      "outputs": [
        {
          "output_type": "stream",
          "text": [
            "Input a string (lowercase alphabets):wolf\n",
            "Input k: 4\n",
            "Number of substrings with exactly 4 distinct characters : 1\n"
          ],
          "name": "stdout"
        }
      ]
    },
    {
      "cell_type": "markdown",
      "metadata": {
        "id": "CWRNeRlXNcFK",
        "colab_type": "text"
      },
      "source": [
        "Q15. Write the Python program to count number of substrings with same\n",
        "first and last characters of the given string?\n",
        "\n",
        "    Input a string: abcd\n",
        "    4\n"
      ]
    },
    {
      "cell_type": "code",
      "metadata": {
        "id": "gDzgy8MmNcFM",
        "colab_type": "code",
        "outputId": "0e2e3868-0d6b-40a2-ba32-d29f6ef1fc62",
        "colab": {
          "base_uri": "https://localhost:8080/",
          "height": 51
        }
      },
      "source": [
        "def no_of_substring_with_equalEnds(str1): \n",
        "\tresult = 0; \n",
        "\tn = len(str1); \n",
        "\tfor i in range(n): \n",
        "\t\tfor j in range(i, n): \n",
        "\t\t\tif (str1[i] == str1[j]): \n",
        "\t\t\t\tresult = result + 1\n",
        "\treturn result \n",
        "str1 = input(\"Input a string: \")\n",
        "print(no_of_substring_with_equalEnds(str1))\n"
      ],
      "execution_count": 0,
      "outputs": [
        {
          "output_type": "stream",
          "text": [
            "Input a string: abcd\n",
            "4\n"
          ],
          "name": "stdout"
        }
      ]
    },
    {
      "cell_type": "markdown",
      "metadata": {
        "id": "fG-uADQqNcFQ",
        "colab_type": "text"
      },
      "source": [
        "## Great Job!"
      ]
    }
  ]
}
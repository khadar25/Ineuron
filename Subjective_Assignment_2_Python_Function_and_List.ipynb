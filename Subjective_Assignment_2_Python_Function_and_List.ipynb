{
  "nbformat": 4,
  "nbformat_minor": 0,
  "metadata": {
    "kernelspec": {
      "display_name": "Python 3",
      "language": "python",
      "name": "python3"
    },
    "language_info": {
      "codemirror_mode": {
        "name": "ipython",
        "version": 3
      },
      "file_extension": ".py",
      "mimetype": "text/x-python",
      "name": "python",
      "nbconvert_exporter": "python",
      "pygments_lexer": "ipython3",
      "version": "3.7.4"
    },
    "colab": {
      "name": "Subjective Assignment - 2 - Python Function and List.ipynb",
      "provenance": [],
      "collapsed_sections": []
    }
  },
  "cells": [
    {
      "cell_type": "markdown",
      "metadata": {
        "id": "25kpuJC_qPbJ",
        "colab_type": "text"
      },
      "source": [
        "# Assignments"
      ]
    },
    {
      "cell_type": "markdown",
      "metadata": {
        "id": "9-UAYOg7qPbL",
        "colab_type": "text"
      },
      "source": [
        "Q1. Write the Python function to get a string made of 4 copies of the last\n",
        "two characters of the specified string (length must be at least 2).\n",
        "\n",
        "    Sample function and result :\n",
        "    insert-end ('Python') -> abababab\n",
        "    insert-end('Exercises') -> jkjkjkjk"
      ]
    },
    {
      "cell_type": "code",
      "metadata": {
        "id": "xJiDHCzvqPbM",
        "colab_type": "code",
        "colab": {
          "base_uri": "https://localhost:8080/",
          "height": 51
        },
        "outputId": "49b48c02-bbb9-42ec-f152-e66675cc2edd"
      },
      "source": [
        "def insert_end(str):\n",
        "\tsub_str = str[-2:]\n",
        "\treturn sub_str * 4\n",
        "\n",
        "print(insert_end('Python'))\n",
        "print(insert_end('Exercises'))"
      ],
      "execution_count": 1,
      "outputs": [
        {
          "output_type": "stream",
          "text": [
            "onononon\n",
            "eseseses\n"
          ],
          "name": "stdout"
        }
      ]
    },
    {
      "cell_type": "markdown",
      "metadata": {
        "id": "TlDSWdKaqPbU",
        "colab_type": "text"
      },
      "source": [
        "Q2. Write the python function to get a string made of its first three\n",
        "characters of a specified string. If the length of the string is less than 3\n",
        "then return the original string.\n",
        "    \n",
        "    Sample function and result :\n",
        "    first-three('ipy') -> ipy\n",
        "    first-three('python') -> pyt"
      ]
    },
    {
      "cell_type": "code",
      "metadata": {
        "id": "oLRLLksUqPbV",
        "colab_type": "code",
        "colab": {
          "base_uri": "https://localhost:8080/",
          "height": 51
        },
        "outputId": "78caa15b-426f-4364-f574-f944df361117"
      },
      "source": [
        "def first_three(str):\n",
        "  if(len(str) >= 3):\n",
        "    return str[0:3]\n",
        "  else:\n",
        "    return str\n",
        "print(first_three(\"pythonoic\"))\n",
        "print(first_three(\"py\"))\n"
      ],
      "execution_count": 8,
      "outputs": [
        {
          "output_type": "stream",
          "text": [
            "pyt\n",
            "py\n"
          ],
          "name": "stdout"
        }
      ]
    },
    {
      "cell_type": "markdown",
      "metadata": {
        "id": "LGL1HLORqPbb",
        "colab_type": "text"
      },
      "source": [
        "Q3. Write the Python program to find smallest window that contains all\n",
        "characters of the given string?\n",
        "\n",
        "    Original Strings:\n",
        "    asdaewsqgtwwsa\n",
        "    Smallest window that contains all characters of the said string:\n",
        "    Daewsqgt"
      ]
    },
    {
      "cell_type": "code",
      "metadata": {
        "id": "3ZKkzNvHqPbc",
        "colab_type": "code",
        "colab": {
          "base_uri": "https://localhost:8080/",
          "height": 102
        },
        "outputId": "9a2eeb6b-a9ee-42f8-d14d-9030b2db350c"
      },
      "source": [
        "from collections import defaultdict   \n",
        "\n",
        "def find_sub_string(str): \n",
        "    str_len = len(str) \n",
        "      \n",
        "    # Count all distinct characters. \n",
        "    dist_count_char = len(set([x for x in str])) \n",
        "  \n",
        "    ctr, start_pos, start_pos_index, min_len = 0, 0, -1, 9999999999\n",
        "    curr_count = defaultdict(lambda: 0) \n",
        "    for i in range(str_len): \n",
        "        curr_count[str[i]] += 1\n",
        " \n",
        "        if curr_count[str[i]] == 1: \n",
        "            ctr += 1\n",
        "  \n",
        "        if ctr == dist_count_char: \n",
        "            while curr_count[str[start_pos]] > 1: \n",
        "                if curr_count[str[start_pos]] > 1: \n",
        "                    curr_count[str[start_pos]] -= 1\n",
        "                start_pos += 1\n",
        "  \n",
        "            len_window = i - start_pos + 1\n",
        "            if min_len > len_window: \n",
        "                min_len = len_window \n",
        "                start_pos_index = start_pos \n",
        "    return str[start_pos_index: start_pos_index + min_len] \n",
        "      \n",
        "str1 = \"asdaewsqgtwwsa\"\n",
        "print(\"Original Strings:\\n\",str1)\n",
        "print(\"\\nSmallest window that contains all characters of the said string:\")\n",
        "print(find_sub_string(str1)) \n"
      ],
      "execution_count": 9,
      "outputs": [
        {
          "output_type": "stream",
          "text": [
            "Original Strings:\n",
            " asdaewsqgtwwsa\n",
            "\n",
            "Smallest window that contains all characters of the said string:\n",
            "daewsqgt\n"
          ],
          "name": "stdout"
        }
      ]
    },
    {
      "cell_type": "markdown",
      "metadata": {
        "id": "wREpy2CsqPbg",
        "colab_type": "text"
      },
      "source": [
        "Q4. Write the Python program to count number of substrings from a\n",
        "given string of lowercase alphabets with exactly k distinct (given)\n",
        "characters?\n",
        "\n",
        "    Input a string (lowercase alphabets): wolf\n",
        "    Input k: 4\n",
        "    Number of substrings with exactly 4 distinct characters: 1"
      ]
    },
    {
      "cell_type": "code",
      "metadata": {
        "id": "1-L9IrXWqPbh",
        "colab_type": "code",
        "colab": {
          "base_uri": "https://localhost:8080/",
          "height": 68
        },
        "outputId": "752dca64-1733-4391-895a-c38f6176e614"
      },
      "source": [
        "def count_k_dist(str1, k): \n",
        "\tstr_len = len(str1) \n",
        "\t\n",
        "\tresult = 0\n",
        "\n",
        "\tctr = [0] * 27\n",
        "\n",
        "\tfor i in range(0, str_len): \n",
        "\t\tdist_ctr = 0\n",
        "\n",
        "\t\tctr = [0] * 27\n",
        "\n",
        "\t\tfor j in range(i, str_len): \n",
        "\t\t\t\n",
        "\t\t\tif(ctr[ord(str1[j]) - 97] == 0): \n",
        "\t\t\t\tdist_ctr += 1\n",
        "\n",
        "\t\t\tctr[ord(str1[j]) - 97] += 1\n",
        "\n",
        "\t\t\tif(dist_ctr == k): \n",
        "\t\t\t\tresult += 1\n",
        "\t\t\tif(dist_ctr > k): \n",
        "\t\t\t\tbreak\n",
        "\n",
        "\treturn result \n",
        "\n",
        "str1 = input(\"Input a string (lowercase alphabets):\")\n",
        "k = int(input(\"Input k: \"))\n",
        "print(\"Number of substrings with exactly\", k, \"distinct characters : \", end = \"\") \n",
        "print(count_k_dist(str1, k))\n"
      ],
      "execution_count": 10,
      "outputs": [
        {
          "output_type": "stream",
          "text": [
            "Input a string (lowercase alphabets):wolf\n",
            "Input k: 4\n",
            "Number of substrings with exactly 4 distinct characters : 1\n"
          ],
          "name": "stdout"
        }
      ]
    },
    {
      "cell_type": "markdown",
      "metadata": {
        "id": "ic-koe0JqPbl",
        "colab_type": "text"
      },
      "source": [
        "Q5. Write the Python program to count number of non-empty\n",
        "substrings of the given string?\n",
        "\n",
        "    Input a string: w3resource\n",
        "    Number of substrings:\n",
        "    55"
      ]
    },
    {
      "cell_type": "code",
      "metadata": {
        "id": "kuFRqC0DqPbm",
        "colab_type": "code",
        "colab": {
          "base_uri": "https://localhost:8080/",
          "height": 68
        },
        "outputId": "3c157c9b-0fe6-4cc5-e5d0-bf2cc2537a1c"
      },
      "source": [
        "def number_of_substrings(str): \n",
        "\tstr_len = len(str); \n",
        "\treturn int(str_len * (str_len + 1) / 2); \n",
        "\n",
        "str1 = input(\"Input a string: \")\n",
        "print(\"Number of substrings:\") \n",
        "print(number_of_substrings(str1))\n"
      ],
      "execution_count": 12,
      "outputs": [
        {
          "output_type": "stream",
          "text": [
            "Input a string: w2resource\n",
            "Number of substrings:\n",
            "55\n"
          ],
          "name": "stdout"
        }
      ]
    },
    {
      "cell_type": "markdown",
      "metadata": {
        "id": "VrAOvbBWqPbs",
        "colab_type": "text"
      },
      "source": [
        "Q6. Write the Python program to count the number of strings where the\n",
        "string length is 2 or more, and first and last character are same\n",
        "from a given list of strings.\n",
        "\n",
        "    Sample List : ['abc', 'xyz', 'wxw', '1331']\n",
        "    Expected Result: 2"
      ]
    },
    {
      "cell_type": "code",
      "metadata": {
        "id": "6yohhOpbqPbt",
        "colab_type": "code",
        "colab": {
          "base_uri": "https://localhost:8080/",
          "height": 85
        },
        "outputId": "6033af7f-53c9-4fa6-c062-8702839b21c9"
      },
      "source": [
        "def count_number(strings):\n",
        "  count=0\n",
        "  for str in strings:\n",
        "    if((len(str) > 1) & (str[0] == str[-1])):\n",
        "      print(str)\n",
        "      count+=1\n",
        "  return count\n",
        "st=count_number([\"tomot\",'window','strings',\"bigbee\"])\n",
        "st"
      ],
      "execution_count": 29,
      "outputs": [
        {
          "output_type": "stream",
          "text": [
            "tomot\n",
            "window\n",
            "strings\n"
          ],
          "name": "stdout"
        },
        {
          "output_type": "execute_result",
          "data": {
            "text/plain": [
              "3"
            ]
          },
          "metadata": {
            "tags": []
          },
          "execution_count": 29
        }
      ]
    },
    {
      "cell_type": "markdown",
      "metadata": {
        "id": "RneNqBAGqPbz",
        "colab_type": "text"
      },
      "source": [
        "Q7. Write the Python program to get a list, sorted in increasing order by\n",
        "the last element in each tuple from the given list of non-empty\n",
        "tuples?\n",
        "\n",
        "    Sample List - [ (2, 5), (1, 2), (4, 4), (2, 3), (2, 1) ]\n",
        "    Expected Result - [ (2, 1), (1, 2), (2, 3), (4, 4), (2, 5) ]"
      ]
    },
    {
      "cell_type": "code",
      "metadata": {
        "id": "nxJvvljBqPb0",
        "colab_type": "code",
        "colab": {
          "base_uri": "https://localhost:8080/",
          "height": 34
        },
        "outputId": "3506591e-378e-4dd6-cc2c-0d824c2adcd6"
      },
      "source": [
        "def last(n): return n[-1]\n",
        "\n",
        "def sort_list_last(tuples):\n",
        "  return sorted(tuples, key=last)\n",
        "\n",
        "print(sort_list_last([(2, 5), (1, 2), (4, 4), (2, 3), (2, 1)]))\n"
      ],
      "execution_count": 30,
      "outputs": [
        {
          "output_type": "stream",
          "text": [
            "[(2, 1), (1, 2), (2, 3), (4, 4), (2, 5)]\n"
          ],
          "name": "stdout"
        }
      ]
    },
    {
      "cell_type": "markdown",
      "metadata": {
        "id": "XOPraQdhqPb6",
        "colab_type": "text"
      },
      "source": [
        "Q8. Write the Python program to remove duplicates from a list?"
      ]
    },
    {
      "cell_type": "code",
      "metadata": {
        "id": "0kjv9NzcqPb7",
        "colab_type": "code",
        "colab": {
          "base_uri": "https://localhost:8080/",
          "height": 34
        },
        "outputId": "824ce61b-207a-4382-afac-1e3f591e3341"
      },
      "source": [
        "def removeDuplicate(strings):\n",
        "  ls=[]\n",
        "  for str in strings:\n",
        "    if str not in ls:\n",
        "      ls.append(str)\n",
        "  return ls\n",
        "st=removeDuplicate(['Cat','Cat','Dog','zinc','Tom','Tom','Jerry'])\n",
        "st  "
      ],
      "execution_count": 33,
      "outputs": [
        {
          "output_type": "execute_result",
          "data": {
            "text/plain": [
              "['Cat', 'Dog', 'zinc', 'Tom', 'Jerry']"
            ]
          },
          "metadata": {
            "tags": []
          },
          "execution_count": 33
        }
      ]
    },
    {
      "cell_type": "markdown",
      "metadata": {
        "id": "uOESh51gqPcB",
        "colab_type": "text"
      },
      "source": [
        "Q9. Write the Python program to find the list of words that are longer\n",
        "than n from a given list of words?"
      ]
    },
    {
      "cell_type": "code",
      "metadata": {
        "id": "nmUig0JwqPcB",
        "colab_type": "code",
        "colab": {
          "base_uri": "https://localhost:8080/",
          "height": 34
        },
        "outputId": "7745e398-ef79-42f9-9614-626d08b840e9"
      },
      "source": [
        "def long_words(n, str):\n",
        "    word_len = []\n",
        "    txt = str.split(\" \")\n",
        "    for x in txt:\n",
        "        if len(x) > n:\n",
        "            word_len.append(x)\n",
        "    return word_len\t\n",
        "print(long_words(3, \"The quick brown fox jumps over the lazy dog\"))\n"
      ],
      "execution_count": 34,
      "outputs": [
        {
          "output_type": "stream",
          "text": [
            "['quick', 'brown', 'jumps', 'over', 'lazy']\n"
          ],
          "name": "stdout"
        }
      ]
    },
    {
      "cell_type": "markdown",
      "metadata": {
        "id": "nbNtsM8EqPcF",
        "colab_type": "text"
      },
      "source": [
        "Q10. Write the Python program to print a specified list after removing the\n",
        "0th, 4th, and 5th elements?\n",
        "    \n",
        "    Sample List - ['Red', 'Green', 'White', 'Black', 'Pink', 'Yellow']\n",
        "    Expected Output - ['Green', 'White', 'Black']"
      ]
    },
    {
      "cell_type": "code",
      "metadata": {
        "id": "ehQYFzVDqPcG",
        "colab_type": "code",
        "colab": {
          "base_uri": "https://localhost:8080/",
          "height": 34
        },
        "outputId": "bb3bbd7f-b5a2-4870-b2de-ff678b237cee"
      },
      "source": [
        "def validate(str):\n",
        "  return str[1:4]+str[6:]  \n",
        "str = validate(['Red', 'Green', 'White', 'Black', 'Pink', 'Yellow'])\n",
        "str"
      ],
      "execution_count": 38,
      "outputs": [
        {
          "output_type": "execute_result",
          "data": {
            "text/plain": [
              "['Green', 'White', 'Black']"
            ]
          },
          "metadata": {
            "tags": []
          },
          "execution_count": 38
        }
      ]
    },
    {
      "cell_type": "markdown",
      "metadata": {
        "id": "e_iRFTu5qPcL",
        "colab_type": "text"
      },
      "source": [
        "Q11. Write the Python program to generate all permutations of a list in\n",
        "Python?"
      ]
    },
    {
      "cell_type": "code",
      "metadata": {
        "id": "pjADsL2CqPcM",
        "colab_type": "code",
        "colab": {
          "base_uri": "https://localhost:8080/",
          "height": 34
        },
        "outputId": "0d938252-ce96-4499-cf62-f3c0fcb8a5f8"
      },
      "source": [
        "import itertools\n",
        "print(list(itertools.permutations([1,2,3])))\n"
      ],
      "execution_count": 39,
      "outputs": [
        {
          "output_type": "stream",
          "text": [
            "[(1, 2, 3), (1, 3, 2), (2, 1, 3), (2, 3, 1), (3, 1, 2), (3, 2, 1)]\n"
          ],
          "name": "stdout"
        }
      ]
    },
    {
      "cell_type": "markdown",
      "metadata": {
        "id": "Tt8o6KHPqPcP",
        "colab_type": "text"
      },
      "source": [
        "Q12. Write the Python program to convert a pair of values into a sorted\n",
        "unique array?\n",
        " \n",
        "    Original List- [ (1, 2), (3, 4), (1, 2), (5, 6), (7, 8), (1, 2), (3, 4), (3, 4), (7, 8), (9, 10) ]\n",
        "    Sorted Unique Data- [ 1, 2, 3, 4, 5, 6, 7, 8, 9, 10 ] \n"
      ]
    },
    {
      "cell_type": "code",
      "metadata": {
        "id": "y_yev1u2qPcQ",
        "colab_type": "code",
        "colab": {
          "base_uri": "https://localhost:8080/",
          "height": 51
        },
        "outputId": "3187c79a-e88e-40a8-f2a2-9286341883fe"
      },
      "source": [
        "L = [(1, 2), (3, 4), (1, 2), (5, 6), (7, 8), (1, 2), (3, 4), (3, 4),\n",
        " (7, 8), (9, 10)]\n",
        "print(\"Original List: \", L)\n",
        "print(\"Sorted Unique Data:\",sorted(set().union(*L)))\n"
      ],
      "execution_count": 40,
      "outputs": [
        {
          "output_type": "stream",
          "text": [
            "Original List:  [(1, 2), (3, 4), (1, 2), (5, 6), (7, 8), (1, 2), (3, 4), (3, 4), (7, 8), (9, 10)]\n",
            "Sorted Unique Data: [1, 2, 3, 4, 5, 6, 7, 8, 9, 10]\n"
          ],
          "name": "stdout"
        }
      ]
    },
    {
      "cell_type": "markdown",
      "metadata": {
        "id": "S2vH_2ofqPcV",
        "colab_type": "text"
      },
      "source": [
        "## Great job!"
      ]
    }
  ]
}
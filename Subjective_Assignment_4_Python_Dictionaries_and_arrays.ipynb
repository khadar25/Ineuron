{
  "nbformat": 4,
  "nbformat_minor": 0,
  "metadata": {
    "kernelspec": {
      "display_name": "Python 3",
      "language": "python",
      "name": "python3"
    },
    "language_info": {
      "codemirror_mode": {
        "name": "ipython",
        "version": 3
      },
      "file_extension": ".py",
      "mimetype": "text/x-python",
      "name": "python",
      "nbconvert_exporter": "python",
      "pygments_lexer": "ipython3",
      "version": "3.7.4"
    },
    "colab": {
      "name": "Subjective Assignment - 4 - Python Dictionaries and arrays.ipynb",
      "provenance": [],
      "collapsed_sections": []
    }
  },
  "cells": [
    {
      "cell_type": "markdown",
      "metadata": {
        "id": "sx7Y3eO4PplN",
        "colab_type": "text"
      },
      "source": [
        "# Assignment"
      ]
    },
    {
      "cell_type": "markdown",
      "metadata": {
        "id": "BqfFIaEPPplQ",
        "colab_type": "text"
      },
      "source": [
        "Q1. Write the Python program to create an instance of an OrderedDict \n",
        "using the given dictionary and sort dictionary during the\n",
        "creation and print members of the dictionary in reverse order?\n",
        "\n",
        "    Expected OutputAngola 244.\n",
        "    Andorra 376.\n",
        "    Algeria 213.\n",
        "    Afghanistan 93.\n",
        "    Albania 355.\n",
        "    In reverse orderAlbania 355.\n",
        "    Afghanistan 93.\n",
        "    Algeria 213.\n",
        "    Andorra 376.\n",
        "    Angola 244."
      ]
    },
    {
      "cell_type": "code",
      "metadata": {
        "id": "GcNpBsCoPplV",
        "colab_type": "code",
        "outputId": "8657040a-0b52-474f-cf4a-217abb48f9db",
        "colab": {
          "base_uri": "https://localhost:8080/",
          "height": 221
        }
      },
      "source": [
        "from collections import OrderedDict\n",
        "dict = {'Afghanistan': 93, 'Albania': 355, 'Algeria': 213, 'Andorra': 376, 'Angola': 244}\n",
        "new_dict = OrderedDict(dict.items())\n",
        "for key in new_dict:\n",
        "    print (key, new_dict[key])\n",
        "\n",
        "print(\"\\nIn reverse order:\")\n",
        "for key in reversed(new_dict):\n",
        "    print (key, new_dict[key])\n"
      ],
      "execution_count": 0,
      "outputs": [
        {
          "output_type": "stream",
          "text": [
            "Afghanistan 93\n",
            "Albania 355\n",
            "Algeria 213\n",
            "Andorra 376\n",
            "Angola 244\n",
            "\n",
            "In reverse order:\n",
            "Angola 244\n",
            "Andorra 376\n",
            "Algeria 213\n",
            "Albania 355\n",
            "Afghanistan 93\n"
          ],
          "name": "stdout"
        }
      ]
    },
    {
      "cell_type": "markdown",
      "metadata": {
        "id": "8RhJl2LLPple",
        "colab_type": "text"
      },
      "source": [
        "Q2. Write the Python program to compare two unordered lists (not\n",
        "sets)?\n",
        " \n",
        "     Expected Output: False"
      ]
    },
    {
      "cell_type": "code",
      "metadata": {
        "id": "8xO19h2oPplh",
        "colab_type": "code",
        "outputId": "c0efeb7f-21f6-4503-cd5a-6dfd46ec0c6b",
        "colab": {
          "base_uri": "https://localhost:8080/",
          "height": 34
        }
      },
      "source": [
        "from collections import Counter\n",
        "def compare_lists(x, y):\n",
        "    return Counter(x) == Counter(y)\n",
        "n1 = [20, 10, 30, 10, 20, 30]\n",
        "n2 = [30, 20, 10, 30, 20, 50]\n",
        "print(compare_lists(n1, n2))\n"
      ],
      "execution_count": 0,
      "outputs": [
        {
          "output_type": "stream",
          "text": [
            "False\n"
          ],
          "name": "stdout"
        }
      ]
    },
    {
      "cell_type": "markdown",
      "metadata": {
        "id": "gyAEn7q2Pplo",
        "colab_type": "text"
      },
      "source": [
        "Q3. Write the Python program to get an array buffer information?\n",
        "\n",
        "    Expected OutputArray buffer start address in memory and number of elements.\n",
        "    (25855056, 2)\n"
      ]
    },
    {
      "cell_type": "code",
      "metadata": {
        "id": "ozU1EWthPplp",
        "colab_type": "code",
        "outputId": "d36b6631-1914-4eb2-8c14-df906db041d7",
        "colab": {
          "base_uri": "https://localhost:8080/",
          "height": 51
        }
      },
      "source": [
        "from array import array\n",
        "a = array(\"I\", (12,25))\n",
        "print(\"Array buffer start address in memory and number of elements.\")\n",
        "print(a.buffer_info())\n"
      ],
      "execution_count": 0,
      "outputs": [
        {
          "output_type": "stream",
          "text": [
            "Array buffer start address in memory and number of elements.\n",
            "(140108484310944, 2)\n"
          ],
          "name": "stdout"
        }
      ]
    },
    {
      "cell_type": "markdown",
      "metadata": {
        "id": "xWZ3TF1KPpl3",
        "colab_type": "text"
      },
      "source": [
        "Q4. Write the Python program to convert an array to an array of\n",
        "machine values and return the bytes representation?\n",
        "\n",
        "    Expected OutputOriginal arrayA1: array('i', [1, 2, 3, 4, 5, 6])\n",
        "    Array of bytes:\n",
        "    b'010000000200000003000000040000000500000006000000"
      ]
    },
    {
      "cell_type": "code",
      "metadata": {
        "id": "51i4qUopPpl4",
        "colab_type": "code",
        "outputId": "7b6fa256-888f-4bc5-a31a-c053bfdcdc46",
        "colab": {
          "base_uri": "https://localhost:8080/",
          "height": 51
        }
      },
      "source": [
        "from array import *\n",
        "print(\"Bytes to String: \")\n",
        "x = array('b', [114, 52, 112, 100,  115, 110, 113, 114, 99, 100])\n",
        "s = x.tobytes()\n",
        "print(s)\n"
      ],
      "execution_count": 0,
      "outputs": [
        {
          "output_type": "stream",
          "text": [
            "Bytes to String: \n",
            "b'r4pdsnqrcd'\n"
          ],
          "name": "stdout"
        }
      ]
    },
    {
      "cell_type": "markdown",
      "metadata": {
        "id": "JWKBaSb6Ppl-",
        "colab_type": "text"
      },
      "source": [
        "Q5. Write the Python program to read a string and interpreting the\n",
        "string as an array of machine values?\n",
        "\n",
        "    Expected Outputarray1- array('i', [7, 8, 9, 10])\n",
        "    Bytes- b'0700000008000000090000000a000000'\n",
        "    array2- array('i', [7, 8, 9, 10])"
      ]
    },
    {
      "cell_type": "code",
      "metadata": {
        "id": "ZF3kbs6ePpmA",
        "colab_type": "code",
        "outputId": "faa04a74-8be5-49ce-a492-6480e5b9b0b4",
        "colab": {
          "base_uri": "https://localhost:8080/",
          "height": 68
        }
      },
      "source": [
        "from array import array\n",
        "import binascii\n",
        "array1 = array('i', [7, 8, 9, 10])\n",
        "print('array1:', array1)\n",
        "as_bytes = array1.tobytes()\n",
        "print('Bytes:', binascii.hexlify(as_bytes))\n",
        "array2 = array('i')\n",
        "array2.frombytes(as_bytes)\n",
        "print('array2:', array2)\n"
      ],
      "execution_count": 0,
      "outputs": [
        {
          "output_type": "stream",
          "text": [
            "array1: array('i', [7, 8, 9, 10])\n",
            "Bytes: b'0700000008000000090000000a000000'\n",
            "array2: array('i', [7, 8, 9, 10])\n"
          ],
          "name": "stdout"
        }
      ]
    },
    {
      "cell_type": "markdown",
      "metadata": {
        "id": "ElYuUW1vPpmE",
        "colab_type": "text"
      },
      "source": [
        "Q6. Write the Python program to push three items into the heap and\n",
        "return the smallest item from the heap. Also, return and pop the\n",
        "smallest item from the heap?\n",
        "    \n",
        "    Expected OutputItems in the heap-\n",
        "    ('VI', 1).\n",
        "    ('VII', 3).\n",
        "    ('VIII', 2).\n",
        "    ----------------------\n",
        "    The smallest item in the heap:\n",
        "    ('VI', 1).\n",
        "     ----------------------\n",
        "    Pop the smallest item in the heap:\n",
        "    ('VII', 2).\n",
        "    ('VIII', 3)."
      ]
    },
    {
      "cell_type": "code",
      "metadata": {
        "id": "dlenmmalPpmE",
        "colab_type": "code",
        "colab": {
          "base_uri": "https://localhost:8080/",
          "height": 204
        },
        "outputId": "c4fc9977-e26e-46ec-d1c8-de3a896628b9"
      },
      "source": [
        "import heapq\n",
        "heap = []\n",
        "heapq.heappush(heap, ('V', 3))\n",
        "heapq.heappush(heap, ('V', 2))\n",
        "heapq.heappush(heap, ('V', 1))\n",
        "print(\"Items in the heap:\")\n",
        "for a in heap:\n",
        "\tprint(a)\n",
        "print(\"----------------------\")\n",
        "print(\"The smallest item in the heap:\")\n",
        "print(heap[0])\n",
        "print(\"----------------------\")\n",
        "print(\"Pop the smallest item in the heap:\")\n",
        "heapq.heappop(heap)\n",
        "for a in heap:\n",
        "\tprint(a)\n"
      ],
      "execution_count": 10,
      "outputs": [
        {
          "output_type": "stream",
          "text": [
            "Items in the heap:\n",
            "('V', 1)\n",
            "('V', 3)\n",
            "('V', 2)\n",
            "----------------------\n",
            "The smallest item in the heap:\n",
            "('V', 1)\n",
            "----------------------\n",
            "Pop the smallest item in the heap:\n",
            "('V', 2)\n",
            "('V', 3)\n"
          ],
          "name": "stdout"
        }
      ]
    },
    {
      "cell_type": "markdown",
      "metadata": {
        "id": "8zWdkz8TPpmJ",
        "colab_type": "text"
      },
      "source": [
        "Q7. Write the Python program to locate the left insertion point for a\n",
        "specified value in sorted order?\n",
        "\n",
        "    Expected Output:\n",
        "    4\n",
        "    2"
      ]
    },
    {
      "cell_type": "code",
      "metadata": {
        "id": "o6KFNBtoPpmK",
        "colab_type": "code",
        "colab": {
          "base_uri": "https://localhost:8080/",
          "height": 51
        },
        "outputId": "cb7a2f20-d3e8-4df9-e109-a398f5fb7393"
      },
      "source": [
        "import bisect\n",
        "def index(a, x):\n",
        "    i = bisect.bisect_left(a, x)\n",
        "    return i\n",
        "    \n",
        "a = [1,2,4,5]\n",
        "print(index(a, 6))\n",
        "print(index(a, 3))\n"
      ],
      "execution_count": 11,
      "outputs": [
        {
          "output_type": "stream",
          "text": [
            "4\n",
            "2\n"
          ],
          "name": "stdout"
        }
      ]
    },
    {
      "cell_type": "markdown",
      "metadata": {
        "id": "paCa7mMiPpmR",
        "colab_type": "text"
      },
      "source": [
        "Q8. Write the Python program to create the FIFO queue?\n",
        "\n",
        "    Expected Output:\n",
        "    0 1 2 3"
      ]
    },
    {
      "cell_type": "code",
      "metadata": {
        "id": "EgP6RWO_PpmV",
        "colab_type": "code",
        "colab": {
          "base_uri": "https://localhost:8080/",
          "height": 51
        },
        "outputId": "7e72e2b6-2c4c-4d96-d98d-22cc8161b92f"
      },
      "source": [
        "import queue\n",
        "q = queue.Queue()\n",
        "#insert items at the end of the queue \n",
        "for x in range(4):\n",
        "    q.put(str(x))\n",
        "#remove items from the head of the queue \n",
        "while not q.empty():\n",
        "    print(q.get(), end=\" \")\n",
        "print(\"\\n\")\n"
      ],
      "execution_count": 12,
      "outputs": [
        {
          "output_type": "stream",
          "text": [
            "0 1 2 3 \n",
            "\n"
          ],
          "name": "stdout"
        }
      ]
    },
    {
      "cell_type": "markdown",
      "metadata": {
        "id": "yaGenapzPpma",
        "colab_type": "text"
      },
      "source": [
        "Q9. Write the Python program to calculate the harmonic sum of n-1.\n",
        " Note: The harmonic sum is the sum of reciprocals of the positive\n",
        "Integers?\n",
        "\n",
        "    Example:\n",
        "    1+1/2+1/3+1/4+1/5+...."
      ]
    },
    {
      "cell_type": "code",
      "metadata": {
        "id": "qe4LFmOAPpmb",
        "colab_type": "code",
        "colab": {
          "base_uri": "https://localhost:8080/",
          "height": 51
        },
        "outputId": "b90a2d65-6fcb-465d-eb74-72ca8e092fae"
      },
      "source": [
        "def harmonic_sum(n):\n",
        "  if n < 2:\n",
        "    return 1\n",
        "  else:\n",
        "    return 1 / n + (harmonic_sum(n - 1))\n",
        "    \n",
        "print(harmonic_sum(7))\n",
        "print(harmonic_sum(4))\n"
      ],
      "execution_count": 13,
      "outputs": [
        {
          "output_type": "stream",
          "text": [
            "2.5928571428571425\n",
            "2.083333333333333\n"
          ],
          "name": "stdout"
        }
      ]
    },
    {
      "cell_type": "markdown",
      "metadata": {
        "id": "CxWlad5uPpmj",
        "colab_type": "text"
      },
      "source": [
        "## Great Job!"
      ]
    }
  ]
}
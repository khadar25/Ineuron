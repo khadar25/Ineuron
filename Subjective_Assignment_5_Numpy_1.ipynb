{
  "nbformat": 4,
  "nbformat_minor": 0,
  "metadata": {
    "kernelspec": {
      "display_name": "Python 3",
      "language": "python",
      "name": "python3"
    },
    "language_info": {
      "codemirror_mode": {
        "name": "ipython",
        "version": 3
      },
      "file_extension": ".py",
      "mimetype": "text/x-python",
      "name": "python",
      "nbconvert_exporter": "python",
      "pygments_lexer": "ipython3",
      "version": "3.7.4"
    },
    "colab": {
      "name": "Subjective Assignment - 5 - Numpy 1.ipynb",
      "provenance": [],
      "collapsed_sections": []
    }
  },
  "cells": [
    {
      "cell_type": "markdown",
      "metadata": {
        "id": "Ne-2f9ufSapY",
        "colab_type": "text"
      },
      "source": [
        "# Assignment"
      ]
    },
    {
      "cell_type": "markdown",
      "metadata": {
        "id": "WsHFUbZASapZ",
        "colab_type": "text"
      },
      "source": [
        "Q1. Write the NumPy program to create a 2d array with 6 on the border\n",
        "and 0 inside?\n",
        "\n",
        "    Expected OutputOriginal array-\n",
        "    [ [6 6 6 6 6]\n",
        "     [ 6 6 6 6 6]\n",
        "     [ 6 6 6 6 6 ]\n",
        "    [ 6 6 6 6 6 ]\n",
        "    [ 6 6 6 6 ] ].\n",
        "    6 on the border and 0 inside in the array-\n",
        "    [[ 6 6 6 6 6]\n",
        "    [ 6 0 0 0 6]\n",
        "    [ 6 0 0 0 6]\n",
        "    [ 6 0 0 0 6]\n",
        "    [ 6 6 6 6 6]]."
      ]
    },
    {
      "cell_type": "code",
      "metadata": {
        "id": "8E9Tpe6bSapa",
        "colab_type": "code",
        "colab": {
          "base_uri": "https://localhost:8080/",
          "height": 221
        },
        "outputId": "db870700-0357-43cc-fa2a-69d77a5509c0"
      },
      "source": [
        "import numpy as np\n",
        "x = np.ones((5,5))*6\n",
        "print(\"Original array:\")\n",
        "print(x)\n",
        "print(\"6 on the border and 0 inside in the array\")\n",
        "x[1:-1,1:-1] = 0\n",
        "print(x)"
      ],
      "execution_count": 4,
      "outputs": [
        {
          "output_type": "stream",
          "text": [
            "Original array:\n",
            "[[6. 6. 6. 6. 6.]\n",
            " [6. 6. 6. 6. 6.]\n",
            " [6. 6. 6. 6. 6.]\n",
            " [6. 6. 6. 6. 6.]\n",
            " [6. 6. 6. 6. 6.]]\n",
            "6 on the border and 0 inside in the array\n",
            "[[6. 6. 6. 6. 6.]\n",
            " [6. 0. 0. 0. 6.]\n",
            " [6. 0. 0. 0. 6.]\n",
            " [6. 0. 0. 0. 6.]\n",
            " [6. 6. 6. 6. 6.]]\n"
          ],
          "name": "stdout"
        }
      ]
    },
    {
      "cell_type": "markdown",
      "metadata": {
        "id": "F6Jlwb3mSapf",
        "colab_type": "text"
      },
      "source": [
        "Q2. Write the NumPy program to create a 8x8 matrix and fill it with the\n",
        "checkerboard pattern?\n",
        "    \n",
        "    Checkerboard pattern-\n",
        "    [[3 9 3 9 3 9 3 9]\n",
        "    [9 3 9 3 9 3 9 3]\n",
        "    [3 9 3 9 3 9 3 9]\n",
        "    [9 3 9 3 9 3 9 3]\n",
        "    [3 9 3 9 3 9 3 9]\n",
        "    [9 3 9 3 9 3 9 3]\n",
        "    [3 9 3 9 3 9 3 9]\n",
        "    [9 3 9 3 9 3 9 3]]."
      ]
    },
    {
      "cell_type": "code",
      "metadata": {
        "id": "6khhTV-LSapg",
        "colab_type": "code",
        "colab": {
          "base_uri": "https://localhost:8080/",
          "height": 170
        },
        "outputId": "ca3d1bfa-cc47-43ff-efd1-fed046eeb288"
      },
      "source": [
        "import numpy as np \n",
        "  \n",
        "# function to print Checkerboard pattern \n",
        "def printcheckboard(n): \n",
        "      \n",
        "    print(\"Checkerboard pattern:\") \n",
        "  \n",
        "    # create a n * n matrix \n",
        "    x = np.ones((n, n), dtype = int)*3\n",
        "  \n",
        "    # fill with 1 the alternate rows and columns \n",
        "    x[1::2, ::2] = 9\n",
        "    x[::2, 1::2] = 9\n",
        "      \n",
        "    # print the pattern \n",
        "    for i in range(n): \n",
        "        for j in range(n): \n",
        "            print(x[i][j], end =\" \")  \n",
        "        print()  \n",
        "  \n",
        "  \n",
        "# driver code \n",
        "n = 8\n",
        "printcheckboard(n)\n"
      ],
      "execution_count": 6,
      "outputs": [
        {
          "output_type": "stream",
          "text": [
            "Checkerboard pattern:\n",
            "3 9 3 9 3 9 3 9 \n",
            "9 3 9 3 9 3 9 3 \n",
            "3 9 3 9 3 9 3 9 \n",
            "9 3 9 3 9 3 9 3 \n",
            "3 9 3 9 3 9 3 9 \n",
            "9 3 9 3 9 3 9 3 \n",
            "3 9 3 9 3 9 3 9 \n",
            "9 3 9 3 9 3 9 3 \n"
          ],
          "name": "stdout"
        }
      ]
    },
    {
      "cell_type": "markdown",
      "metadata": {
        "id": "RxOuz8AzSapj",
        "colab_type": "text"
      },
      "source": [
        "Q3. Write the NumPy program to create an empty and a full array.\n",
        " \n",
        "     Expected Output-\n",
        "    [[4.45057637e-308 1.78021527e-306 8.45549797e-307 1.37962049e-306]\n",
        "    [1.11260619e-306 1.78010255e-306 9.79054228e-307 4.45057637e-308]\n",
        "    [8.45596650e-307 9.34602321e-307 4.94065646e-322 0.00000000e+000]]\n",
        "    [[6 6 6]\n",
        "    [6 6 6]\n",
        "    [6 6 6]]\n"
      ]
    },
    {
      "cell_type": "code",
      "metadata": {
        "id": "zr0QpixYSapk",
        "colab_type": "code",
        "colab": {
          "base_uri": "https://localhost:8080/",
          "height": 119
        },
        "outputId": "f9e5ddba-7c87-4ea4-f417-76eb7ddffb90"
      },
      "source": [
        "import numpy as np\n",
        "# Create an empty array\n",
        "x = np.empty((3,4))\n",
        "print(x)\n",
        "# Create a full array\n",
        "y = np.full((3,3),6)\n",
        "print(y)\n"
      ],
      "execution_count": 7,
      "outputs": [
        {
          "output_type": "stream",
          "text": [
            "[[2.55469725e-316 0.00000000e+000 4.13532946e-321 1.84613953e-316]\n",
            " [6.92057228e-310 1.84613992e-316 6.92057228e-310 6.92057228e-310]\n",
            " [0.00000000e+000 1.48219694e-323 2.33419537e-313 0.00000000e+000]]\n",
            "[[6 6 6]\n",
            " [6 6 6]\n",
            " [6 6 6]]\n"
          ],
          "name": "stdout"
        }
      ]
    },
    {
      "cell_type": "markdown",
      "metadata": {
        "id": "4H9M_ljNSapq",
        "colab_type": "text"
      },
      "source": [
        "Q4. Write the NumPy program to convert the values of Centigrade\n",
        "degrees into the Fahrenheit degrees and the centigrade values are\n",
        "stored in the NumPy array.\n",
        "    \n",
        "    Sample Array -[0, 12, 45.21 ,34, 99.91]\n",
        "    Expected OutputValues in Fahrenheit degrees-\n",
        "    [ 0. 12. 45.21 34. 99.91]\n",
        "    Values in Centigrade degrees-\n",
        "    [-17.77777778 -11.11111111 7.33888889 1.11111111 37.72777778]"
      ]
    },
    {
      "cell_type": "code",
      "metadata": {
        "id": "kZY8z27lSapr",
        "colab_type": "code",
        "colab": {
          "base_uri": "https://localhost:8080/",
          "height": 85
        },
        "outputId": "ff39a72f-b4c5-451f-a4dd-12a4f1326e89"
      },
      "source": [
        "import numpy as np\n",
        "fvalues = [0, 12, 45.21, 34, 99.91]\n",
        "F = np.array(fvalues)\n",
        "print(\"Values in Fahrenheit degrees:\")\n",
        "print(F)\n",
        "print(\"Values in  Centigrade degrees:\") \n",
        "print(5*F/9 - 5*32/9)\n"
      ],
      "execution_count": 8,
      "outputs": [
        {
          "output_type": "stream",
          "text": [
            "Values in Fahrenheit degrees:\n",
            "[ 0.   12.   45.21 34.   99.91]\n",
            "Values in  Centigrade degrees:\n",
            "[-17.77777778 -11.11111111   7.33888889   1.11111111  37.72777778]\n"
          ],
          "name": "stdout"
        }
      ]
    },
    {
      "cell_type": "markdown",
      "metadata": {
        "id": "lIcXp0RpSapw",
        "colab_type": "text"
      },
      "source": [
        "Q5. Write the NumPy program to find the real and imaginary parts of an\n",
        "array of complex numbers?\n",
        "\n",
        "    Expected OutputOriginal array [ 1.00000000+0.j 0.70710678+0.70710678j]\n",
        "    Real part of the array-\n",
        "    [ 1. 0.70710678]\n",
        "    Imaginary part of the array-\n",
        "    [ 0. 0.70710678]"
      ]
    },
    {
      "cell_type": "code",
      "metadata": {
        "id": "tnDlWew9Sapx",
        "colab_type": "code",
        "colab": {
          "base_uri": "https://localhost:8080/",
          "height": 153
        },
        "outputId": "55a13e4e-2f3c-40d3-ed79-ac1950c344c1"
      },
      "source": [
        "import numpy as np\n",
        "x = np.sqrt([1+0j])\n",
        "y = np.sqrt([0+1j])\n",
        "print(\"Original array:x \",x)\n",
        "print(\"Original array:y \",y)\n",
        "print(\"Real part of the array:\")\n",
        "print(x.real)\n",
        "print(y.real)\n",
        "print(\"Imaginary part of the array:\")\n",
        "print(x.imag)\n",
        "print(y.imag)\n"
      ],
      "execution_count": 9,
      "outputs": [
        {
          "output_type": "stream",
          "text": [
            "Original array:x  [1.+0.j]\n",
            "Original array:y  [0.70710678+0.70710678j]\n",
            "Real part of the array:\n",
            "[1.]\n",
            "[0.70710678]\n",
            "Imaginary part of the array:\n",
            "[0.]\n",
            "[0.70710678]\n"
          ],
          "name": "stdout"
        }
      ]
    },
    {
      "cell_type": "markdown",
      "metadata": {
        "id": "RPtYoEOfSap1",
        "colab_type": "text"
      },
      "source": [
        "Q6. Write the NumPy program to test whether each element of a 1-D\n",
        "array is also present in the second array?\n",
        "\n",
        "    Expected OutputArray1: [ 0 10 20 40 60]\n",
        "    Array2: [0, 40]\n",
        "    Compare each element of array1 and array2\n",
        "    [ True False False True False]\n"
      ]
    },
    {
      "cell_type": "code",
      "metadata": {
        "id": "B7eko1l-Sap2",
        "colab_type": "code",
        "colab": {
          "base_uri": "https://localhost:8080/",
          "height": 85
        },
        "outputId": "bc194452-e3f2-4f1b-b9cf-78cfabdd1a63"
      },
      "source": [
        "import numpy as np\n",
        "array1 = np.array([0, 10, 20, 40, 60])\n",
        "print(\"Array1: \",array1)\n",
        "array2 = [0, 40]\n",
        "print(\"Array2: \",array2)\n",
        "print(\"Compare each element of array1 and array2\")\n",
        "print(np.in1d(array1, array2))\n"
      ],
      "execution_count": 10,
      "outputs": [
        {
          "output_type": "stream",
          "text": [
            "Array1:  [ 0 10 20 40 60]\n",
            "Array2:  [0, 40]\n",
            "Compare each element of array1 and array2\n",
            "[ True False False  True False]\n"
          ],
          "name": "stdout"
        }
      ]
    },
    {
      "cell_type": "markdown",
      "metadata": {
        "id": "mCyFpcxJSap8",
        "colab_type": "text"
      },
      "source": [
        "Q7. Write the NumPy program to find common values between two\n",
        "arrays?\n",
        "    \n",
        "    Expected OutputArray1: [ 0 10 20 40 60]\n",
        "    Array2: [10, 30, 40]\n",
        "    Common values between two arrays-\n",
        "    [10 40]"
      ]
    },
    {
      "cell_type": "code",
      "metadata": {
        "id": "rr-hKFlnSap9",
        "colab_type": "code",
        "colab": {
          "base_uri": "https://localhost:8080/",
          "height": 85
        },
        "outputId": "e1998026-0f17-485c-fe56-14fa190da1a4"
      },
      "source": [
        "import numpy as np\n",
        "array1 = np.array([0, 10, 20, 40, 60])\n",
        "print(\"Array1: \",array1)\n",
        "array2 = [10, 30, 40]\n",
        "print(\"Array2: \",array2)\n",
        "print(\"Common values between two arrays:\")\n",
        "print(np.intersect1d(array1, array2))\n"
      ],
      "execution_count": 11,
      "outputs": [
        {
          "output_type": "stream",
          "text": [
            "Array1:  [ 0 10 20 40 60]\n",
            "Array2:  [10, 30, 40]\n",
            "Common values between two arrays:\n",
            "[10 40]\n"
          ],
          "name": "stdout"
        }
      ]
    },
    {
      "cell_type": "markdown",
      "metadata": {
        "id": "uztlpTWzSaqB",
        "colab_type": "text"
      },
      "source": [
        "Q8. Write the NumPy program to get the unique elements of an array?\n",
        "\n",
        "    Expected OutputOriginal array-\n",
        "    [10 10 20 20 30 30]\n",
        "    Unique elements of the above array-\n",
        "    [10 20 30]\n",
        "    P a g e 14 | 44\n",
        "    Original array-\n",
        "    [[1 1]\n",
        "    [2 3]]\n",
        "    Unique elements of the above array-\n",
        "    [1 2 3]"
      ]
    },
    {
      "cell_type": "code",
      "metadata": {
        "id": "_2RN6XMESaqC",
        "colab_type": "code",
        "colab": {
          "base_uri": "https://localhost:8080/",
          "height": 170
        },
        "outputId": "76c4cbb1-e7c4-4d85-8036-5bb6bc8b71ad"
      },
      "source": [
        "import numpy as np\n",
        "x = np.array([10, 10, 20, 20, 30, 30])\n",
        "print(\"Original array:\")\n",
        "print(x)\n",
        "print(\"Unique elements of the above array:\")\n",
        "print(np.unique(x))\n",
        "x = np.array([[1, 1], [2, 3]])\n",
        "print(\"Original array:\")\n",
        "print(x)\n",
        "print(\"Unique elements of the above array:\")\n",
        "print(np.unique(x))\n"
      ],
      "execution_count": 12,
      "outputs": [
        {
          "output_type": "stream",
          "text": [
            "Original array:\n",
            "[10 10 20 20 30 30]\n",
            "Unique elements of the above array:\n",
            "[10 20 30]\n",
            "Original array:\n",
            "[[1 1]\n",
            " [2 3]]\n",
            "Unique elements of the above array:\n",
            "[1 2 3]\n"
          ],
          "name": "stdout"
        }
      ]
    },
    {
      "cell_type": "markdown",
      "metadata": {
        "id": "oUM4H-MrSaqI",
        "colab_type": "text"
      },
      "source": [
        "Q9. Write the NumPy program to find the set exclusive-or of two arrays.\n",
        "Set exclusive-or will return the sorted, unique values that are in\n",
        "only one (not both) of the input arrays?\n",
        "\n",
        "    Array1- [ 0 10 20 40 60 80]\n",
        "    Array2- [10, 30, 40, 50, 70]\n",
        "    Unique values that are in only one (not both) of the input arrays-\n",
        "    [ 0 20 30 50 60 70 80]"
      ]
    },
    {
      "cell_type": "code",
      "metadata": {
        "id": "9sL0VFAESaqJ",
        "colab_type": "code",
        "colab": {
          "base_uri": "https://localhost:8080/",
          "height": 85
        },
        "outputId": "d7111405-71ef-464d-8e49-e74ea98fd840"
      },
      "source": [
        "import numpy as np\n",
        "array1 = np.array([0, 10, 20, 40, 60, 80])\n",
        "print(\"Array1: \",array1)\n",
        "array2 = [10, 30, 40, 50, 70]\n",
        "print(\"Array2: \",array2)\n",
        "print(\"Unique values that are in only one (not both) of the input arrays:\")\n",
        "print(np.setxor1d(array1, array2))\n"
      ],
      "execution_count": 13,
      "outputs": [
        {
          "output_type": "stream",
          "text": [
            "Array1:  [ 0 10 20 40 60 80]\n",
            "Array2:  [10, 30, 40, 50, 70]\n",
            "Unique values that are in only one (not both) of the input arrays:\n",
            "[ 0 20 30 50 60 70 80]\n"
          ],
          "name": "stdout"
        }
      ]
    },
    {
      "cell_type": "markdown",
      "metadata": {
        "id": "xtgZ5YtNSaqN",
        "colab_type": "text"
      },
      "source": [
        "Q10. Write the NumPy program to test if all elements in an array\n",
        "evaluate to True ?\n",
        " \n",
        "Note: 0 evaluates to False in NumPy"
      ]
    },
    {
      "cell_type": "code",
      "metadata": {
        "id": "GQ9fC8VTSaqO",
        "colab_type": "code",
        "colab": {
          "base_uri": "https://localhost:8080/",
          "height": 85
        },
        "outputId": "cc32f06a-b70b-44fe-c671-a7ed879d738c"
      },
      "source": [
        "import numpy as np\n",
        "print(np.all([[True,False],[True,True]]))\n",
        "print(np.all([[True,True],[True,True]]))\n",
        "print(np.all([10, 20, 0, -50]))\n",
        "print(np.all([10, 20, -50]))\n"
      ],
      "execution_count": 14,
      "outputs": [
        {
          "output_type": "stream",
          "text": [
            "False\n",
            "True\n",
            "False\n",
            "True\n"
          ],
          "name": "stdout"
        }
      ]
    },
    {
      "cell_type": "markdown",
      "metadata": {
        "id": "PmgwBumZSaqT",
        "colab_type": "text"
      },
      "source": [
        "Q11. Write the NumPy program to test whether any array element along\n",
        "the given axis evaluates to True?\n",
        " \n",
        "Note: 0 evaluates to False in NumPy"
      ]
    },
    {
      "cell_type": "code",
      "metadata": {
        "id": "nJuCX7guSaqU",
        "colab_type": "code",
        "colab": {
          "base_uri": "https://localhost:8080/",
          "height": 85
        },
        "outputId": "ae896162-19a3-4b42-8004-f3ada99a7196"
      },
      "source": [
        "import numpy as np\n",
        "print(np.any([[False,False],[False,False]]))\n",
        "print(np.any([[True,True],[True,True]]))\n",
        "print(np.any([10, 20, 0, -50]))\n",
        "print(np.any([10, 20, -50]))\n"
      ],
      "execution_count": 15,
      "outputs": [
        {
          "output_type": "stream",
          "text": [
            "False\n",
            "True\n",
            "True\n",
            "True\n"
          ],
          "name": "stdout"
        }
      ]
    },
    {
      "cell_type": "markdown",
      "metadata": {
        "id": "YNijf-nxSaqZ",
        "colab_type": "text"
      },
      "source": [
        "Q12. Write the NumPy program to construct an array by repeating?\n",
        "\n",
        "    Sample array- [1, 2, 3, 4]\n",
        "    Expected OutputOriginal array\n",
        "    [1, 2, 3, 4]\n",
        "    Repeating 2 times\n",
        "    [1 2 3 4 1 2 3 4]\n",
        "    Repeating 3 times\n",
        "    [1 2 3 4 1 2 3 4 1 2 3 4]"
      ]
    },
    {
      "cell_type": "code",
      "metadata": {
        "id": "orwS4KAlSaqb",
        "colab_type": "code",
        "colab": {
          "base_uri": "https://localhost:8080/",
          "height": 119
        },
        "outputId": "2a2c4d26-1993-4073-8707-6df6b45d1550"
      },
      "source": [
        "import numpy as np\n",
        "a = [1, 2, 3, 4]\n",
        "print(\"Original array\")\n",
        "print(a)\n",
        "print(\"Repeating 2 times\")\n",
        "x = np.tile(a, 2)\n",
        "print(x)\n",
        "print(\"Repeating 3 times\")\n",
        "x = np.tile(a, 3)\n",
        "print(x)\n"
      ],
      "execution_count": 16,
      "outputs": [
        {
          "output_type": "stream",
          "text": [
            "Original array\n",
            "[1, 2, 3, 4]\n",
            "Repeating 2 times\n",
            "[1 2 3 4 1 2 3 4]\n",
            "Repeating 3 times\n",
            "[1 2 3 4 1 2 3 4 1 2 3 4]\n"
          ],
          "name": "stdout"
        }
      ]
    },
    {
      "cell_type": "markdown",
      "metadata": {
        "id": "UBWqn63BSaqi",
        "colab_type": "text"
      },
      "source": [
        "Q13. Write the NumPy program to find the indices of the maximum and\n",
        "minimum values with the given axis of an array?\n",
        "\n",
        "    Original array- [1 2 3 4 5 6]\n",
        "    Maximum Values- 5\n",
        "    Minimum Values- 0"
      ]
    },
    {
      "cell_type": "code",
      "metadata": {
        "id": "uGrKf00TSaqk",
        "colab_type": "code",
        "colab": {
          "base_uri": "https://localhost:8080/",
          "height": 68
        },
        "outputId": "73d30f43-b2aa-474d-dbb7-3e6c639edbf8"
      },
      "source": [
        "import numpy as np\n",
        "x = np.array([1, 2, 3, 4, 5, 6])\n",
        "print(\"Original array: \",x)\n",
        "print(\"Maximum Values: \",np.argmax(x))\n",
        "print(\"Minimum Values: \",np.argmin(x))\n"
      ],
      "execution_count": 17,
      "outputs": [
        {
          "output_type": "stream",
          "text": [
            "Original array:  [1 2 3 4 5 6]\n",
            "Maximum Values:  5\n",
            "Minimum Values:  0\n"
          ],
          "name": "stdout"
        }
      ]
    },
    {
      "cell_type": "markdown",
      "metadata": {
        "id": "56lQAKeMSaqo",
        "colab_type": "text"
      },
      "source": [
        "Q14. Write the NumPy program compare two arrays using numpy?\n",
        "\n",
        "    Array a- [1 2]\n",
        "    Array b- [4 5]\n",
        "    a > b\n",
        "    [False False]\n",
        "    a >= b\n",
        "    [False False]\n",
        "    a < b\n",
        "    [ True True]\n",
        "    a <= b\n",
        "    [ True True]\n"
      ]
    },
    {
      "cell_type": "code",
      "metadata": {
        "id": "4BBHAN7_Saqp",
        "colab_type": "code",
        "colab": {
          "base_uri": "https://localhost:8080/",
          "height": 187
        },
        "outputId": "50658512-81c3-4b53-f350-b5ab7f641a1f"
      },
      "source": [
        "import numpy as np\n",
        "a = np.array([1, 2])\n",
        "b = np.array([4, 5])\n",
        "print(\"Array a: \",a)\n",
        "print(\"Array b: \",b)\n",
        "print(\"a > b\")\n",
        "print(np.greater(a, b))\n",
        "print(\"a >= b\")\n",
        "print(np.greater_equal(a, b))\n",
        "print(\"a < b\")\n",
        "print(np.less(a, b))\n",
        "print(\"a <= b\")\n",
        "print(np.less_equal(a, b))\n"
      ],
      "execution_count": 18,
      "outputs": [
        {
          "output_type": "stream",
          "text": [
            "Array a:  [1 2]\n",
            "Array b:  [4 5]\n",
            "a > b\n",
            "[False False]\n",
            "a >= b\n",
            "[False False]\n",
            "a < b\n",
            "[ True  True]\n",
            "a <= b\n",
            "[ True  True]\n"
          ],
          "name": "stdout"
        }
      ]
    },
    {
      "cell_type": "markdown",
      "metadata": {
        "id": "KI5OlXSRSaqx",
        "colab_type": "text"
      },
      "source": [
        "Q15. Write the NumPy program to sort an along the first, last axis of an\n",
        "array?\n",
        "\n",
        "    Sample array- [[2,5],[4,4]]\n",
        "    Expected OutputOriginal array:\n",
        "    [[4 6]\n",
        "    [2 1]]\n",
        "    Sort along the first axis:\n",
        "    [[2 1]\n",
        "    [4 6]]\n",
        "    Sort along the last axis-\n",
        "    [[1 2]\n",
        "    [4 6]]"
      ]
    },
    {
      "cell_type": "code",
      "metadata": {
        "id": "askdJiFuSaqy",
        "colab_type": "code",
        "colab": {
          "base_uri": "https://localhost:8080/",
          "height": 170
        },
        "outputId": "a4cdf6ed-c1bb-4640-94d8-844c50500b5a"
      },
      "source": [
        "import numpy as np\n",
        "a = np.array([[4, 6],[2, 1]])\n",
        "print(\"Original array: \")\n",
        "print(a)\n",
        "print(\"Sort along the first axis: \")\n",
        "x = np.sort(a, axis=0)\n",
        "print(x)\n",
        "print(\"Sort along the last axis: \")\n",
        "y = np.sort(x, axis=1)\n",
        "print(y)\n"
      ],
      "execution_count": 19,
      "outputs": [
        {
          "output_type": "stream",
          "text": [
            "Original array: \n",
            "[[4 6]\n",
            " [2 1]]\n",
            "Sort along the first axis: \n",
            "[[2 1]\n",
            " [4 6]]\n",
            "Sort along the last axis: \n",
            "[[1 2]\n",
            " [4 6]]\n"
          ],
          "name": "stdout"
        }
      ]
    },
    {
      "cell_type": "markdown",
      "metadata": {
        "id": "nF9sQgVTSaq3",
        "colab_type": "text"
      },
      "source": [
        "Q16. Write the NumPy program to sort pairs of first name and last name\n",
        "return their indices (first by last name, then by first name).\n",
        "\n",
        "    first_names - ( Betsey, Shelley, Lanell, Genesis, Margery )\n",
        "    last_names - ( Battle, Brien, Plotner, Stahl, Woolum )\n",
        "    Expected Output-\n",
        "    [1 3 2 4 0]"
      ]
    },
    {
      "cell_type": "code",
      "metadata": {
        "id": "iE4wfQ6eSaq5",
        "colab_type": "code",
        "colab": {
          "base_uri": "https://localhost:8080/",
          "height": 34
        },
        "outputId": "2f56890d-7f54-4b37-c14f-5f2ecf520d79"
      },
      "source": [
        "import numpy as np\n",
        "first_names =    ('Margery', 'Betsey', 'Shelley', 'Lanell', 'Genesis')\n",
        "last_names = ('Woolum', 'Battle', 'Plotner', 'Brien', 'Stahl')\n",
        "x = np.lexsort((first_names, last_names))\n",
        "print(x)\n"
      ],
      "execution_count": 20,
      "outputs": [
        {
          "output_type": "stream",
          "text": [
            "[1 3 2 4 0]\n"
          ],
          "name": "stdout"
        }
      ]
    },
    {
      "cell_type": "markdown",
      "metadata": {
        "id": "GfV8Vhu4SarE",
        "colab_type": "text"
      },
      "source": [
        "Q17. Write the NumPy program to get the values and indices of the\n",
        "elements that are bigger than 10 in the given array?\n",
        "\n",
        "    Original array-\n",
        "    [[ 0 10 20]\n",
        "    [20 30 40]]\n",
        "    Values bigger than 10 = [20 20 30 40]\n",
        "    Their indices are (array([0, 1, 1, 1]), array([2, 0, 1, 2]))"
      ]
    },
    {
      "cell_type": "code",
      "metadata": {
        "id": "R2iKws7PSarF",
        "colab_type": "code",
        "colab": {
          "base_uri": "https://localhost:8080/",
          "height": 102
        },
        "outputId": "55756ed2-3856-4c19-d473-e374e09ad4f8"
      },
      "source": [
        "import numpy as np\n",
        "x = np.array([[0, 10, 20], [20, 30, 40]])\n",
        "print(\"Original array: \")\n",
        "print(x)\n",
        "print(\"Values bigger than 10 =\", x[x>10])\n",
        "print(\"Their indices are \", np.nonzero(x > 10))\n"
      ],
      "execution_count": 21,
      "outputs": [
        {
          "output_type": "stream",
          "text": [
            "Original array: \n",
            "[[ 0 10 20]\n",
            " [20 30 40]]\n",
            "Values bigger than 10 = [20 20 30 40]\n",
            "Their indices are  (array([0, 1, 1, 1]), array([2, 0, 1, 2]))\n"
          ],
          "name": "stdout"
        }
      ]
    },
    {
      "cell_type": "markdown",
      "metadata": {
        "id": "W9aIeQ5ySarI",
        "colab_type": "text"
      },
      "source": [
        "Q18. Write the NumPy program to find the memory size of a NumPy\n",
        "array?\n",
        "\n",
        "    Expected Output128 bytes\n"
      ]
    },
    {
      "cell_type": "code",
      "metadata": {
        "id": "6Mte3E5ISarJ",
        "colab_type": "code",
        "colab": {
          "base_uri": "https://localhost:8080/",
          "height": 136
        },
        "outputId": "f6bbf681-7fe6-4fb3-a296-6c869c04344b"
      },
      "source": [
        "import numpy as np\n",
        "n = np.zeros((6,7))\n",
        "print(\"%d bytes\" % (n.size * n.itemsize))\n",
        "n"
      ],
      "execution_count": 27,
      "outputs": [
        {
          "output_type": "stream",
          "text": [
            "336 bytes\n"
          ],
          "name": "stdout"
        },
        {
          "output_type": "execute_result",
          "data": {
            "text/plain": [
              "array([[0., 0., 0., 0., 0., 0., 0.],\n",
              "       [0., 0., 0., 0., 0., 0., 0.],\n",
              "       [0., 0., 0., 0., 0., 0., 0.],\n",
              "       [0., 0., 0., 0., 0., 0., 0.],\n",
              "       [0., 0., 0., 0., 0., 0., 0.],\n",
              "       [0., 0., 0., 0., 0., 0., 0.]])"
            ]
          },
          "metadata": {
            "tags": []
          },
          "execution_count": 27
        }
      ]
    },
    {
      "cell_type": "markdown",
      "metadata": {
        "id": "y5u-snJdSarP",
        "colab_type": "text"
      },
      "source": [
        "## Great Job!"
      ]
    }
  ]
}
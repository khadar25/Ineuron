{
  "nbformat": 4,
  "nbformat_minor": 0,
  "metadata": {
    "kernelspec": {
      "display_name": "Python 3",
      "language": "python",
      "name": "python3"
    },
    "language_info": {
      "codemirror_mode": {
        "name": "ipython",
        "version": 3
      },
      "file_extension": ".py",
      "mimetype": "text/x-python",
      "name": "python",
      "nbconvert_exporter": "python",
      "pygments_lexer": "ipython3",
      "version": "3.7.4"
    },
    "colab": {
      "name": "Subjective Assignment - 8 - Pandas 1.ipynb",
      "provenance": [],
      "collapsed_sections": [],
      "toc_visible": true
    }
  },
  "cells": [
    {
      "cell_type": "markdown",
      "metadata": {
        "id": "LkpDIHZDhsAr",
        "colab_type": "text"
      },
      "source": [
        "# Assignment"
      ]
    },
    {
      "cell_type": "markdown",
      "metadata": {
        "id": "KDOMWMsYhsAu",
        "colab_type": "text"
      },
      "source": [
        "Q1. Write the Python program to add, subtract, multiply and divide\n",
        "two pandas series ?\n",
        "\n",
        "    Sample Series- [2, 4, 6, 8, 10], [1, 3, 5, 7, 9]"
      ]
    },
    {
      "cell_type": "code",
      "metadata": {
        "id": "j2X_xWMyhsAw",
        "colab_type": "code",
        "outputId": "0cfacbcd-0bdf-41c7-d3cf-798929c1973e",
        "colab": {
          "base_uri": "https://localhost:8080/",
          "height": 493
        }
      },
      "source": [
        "import pandas as pd\n",
        "ds1 = pd.Series([2, 4, 6, 8, 10])\n",
        "ds2 = pd.Series([1, 3, 5, 7, 9])\n",
        "ds = ds1 + ds2\n",
        "print(\"Add two Series:\")\n",
        "print(ds)\n",
        "print(\"Subtract two Series:\")\n",
        "ds = ds1 - ds2\n",
        "print(ds)\n",
        "print(\"Multiply two Series:\")\n",
        "ds = ds1 * ds2\n",
        "print(ds)\n",
        "print(\"Divide Series1 by Series2:\")\n",
        "ds = ds1 / ds2\n",
        "print(ds)\n"
      ],
      "execution_count": 0,
      "outputs": [
        {
          "output_type": "stream",
          "text": [
            "Add two Series:\n",
            "0     3\n",
            "1     7\n",
            "2    11\n",
            "3    15\n",
            "4    19\n",
            "dtype: int64\n",
            "Subtract two Series:\n",
            "0    1\n",
            "1    1\n",
            "2    1\n",
            "3    1\n",
            "4    1\n",
            "dtype: int64\n",
            "Multiply two Series:\n",
            "0     2\n",
            "1    12\n",
            "2    30\n",
            "3    56\n",
            "4    90\n",
            "dtype: int64\n",
            "Divide Series1 by Series2:\n",
            "0    2.000000\n",
            "1    1.333333\n",
            "2    1.200000\n",
            "3    1.142857\n",
            "4    1.111111\n",
            "dtype: float64\n"
          ],
          "name": "stdout"
        }
      ]
    },
    {
      "cell_type": "markdown",
      "metadata": {
        "id": "3llu3kVrhsA5",
        "colab_type": "text"
      },
      "source": [
        "Q2. Write a Python program to convert a dictionary to the Pandas\n",
        "Series?\n",
        "    \n",
        "    Sample SeriesOriginal dictionary-\n",
        "    {'a': 100, 'b': 200, 'c': 300, 'd': 400, 'e': 800}\n",
        "    Converted series -\n",
        "    a 100\n",
        "    b 200\n",
        "    c 300\n",
        "    d 400\n",
        "    e 800\n",
        "    dtype- int64"
      ]
    },
    {
      "cell_type": "code",
      "metadata": {
        "id": "YJNJymI_hsA7",
        "colab_type": "code",
        "outputId": "3b2805bc-d090-4742-8078-a758a35101ae",
        "colab": {
          "base_uri": "https://localhost:8080/",
          "height": 170
        }
      },
      "source": [
        "import pandas as pd\n",
        "d1 = {'a': 100, 'b': 200, 'c':300, 'd':400, 'e':800}\n",
        "print(\"Original dictionary:\")\n",
        "print(d1)\n",
        "new_series = pd.Series(d1)\n",
        "print(\"Converted series:\")\n",
        "print(new_series)\n"
      ],
      "execution_count": 0,
      "outputs": [
        {
          "output_type": "stream",
          "text": [
            "Original dictionary:\n",
            "{'a': 100, 'b': 200, 'c': 300, 'd': 400, 'e': 800}\n",
            "Converted series:\n",
            "a    100\n",
            "b    200\n",
            "c    300\n",
            "d    400\n",
            "e    800\n",
            "dtype: int64\n"
          ],
          "name": "stdout"
        }
      ]
    },
    {
      "cell_type": "markdown",
      "metadata": {
        "id": "OTmJauAphsBA",
        "colab_type": "text"
      },
      "source": [
        "Q3. Write a python program to change the data type of given a\n",
        "column or a Series?\n",
        "\n",
        "    Sample SeriesOriginal Data Series0 100\n",
        "    1 200\n",
        "    2 python\n",
        "    3 300.12\n",
        "    4 400\n",
        "    dtype- object\n",
        "    Change the said data type to numeric0 100.00\n",
        "    1 200.00\n",
        "    2 NaN\n",
        "    3 300.12\n",
        "    4 400.00\n",
        "    dtype- float64\n"
      ]
    },
    {
      "cell_type": "code",
      "metadata": {
        "id": "ZkN9nVpDhsBB",
        "colab_type": "code",
        "outputId": "25f21bb6-72a7-4d3e-f98f-abb0693bfa45",
        "colab": {
          "base_uri": "https://localhost:8080/",
          "height": 255
        }
      },
      "source": [
        "import pandas as pd\n",
        "s1 = pd.Series(['100', '200', 'python', '300.12', '400'])\n",
        "print(\"Original Data Series:\")\n",
        "print(s1)\n",
        "print(\"Change the said data type to numeric:\")\n",
        "s2 = pd.to_numeric(s1, errors='coerce')\n",
        "print(s2)\n"
      ],
      "execution_count": 0,
      "outputs": [
        {
          "output_type": "stream",
          "text": [
            "Original Data Series:\n",
            "0       100\n",
            "1       200\n",
            "2    python\n",
            "3    300.12\n",
            "4       400\n",
            "dtype: object\n",
            "Change the said data type to numeric:\n",
            "0    100.00\n",
            "1    200.00\n",
            "2       NaN\n",
            "3    300.12\n",
            "4    400.00\n",
            "dtype: float64\n"
          ],
          "name": "stdout"
        }
      ]
    },
    {
      "cell_type": "markdown",
      "metadata": {
        "id": "3Ram76tIhsBF",
        "colab_type": "text"
      },
      "source": [
        "Q4. Write the python pandas program to convert the first column of a\n",
        "DataFrame as a Series?\n",
        "\n",
        "    Sample OutputOriginal DataFramecol1 col2 col3\n",
        "    0 1 4 7\n",
        "    1 2 5 5\n",
        "    2 3 6 8\n",
        "    3 4 9 12\n",
        "    4 7 5 1\n",
        "    5 11 0 11\n",
        "    1st column as a Series0 1\n",
        "    1 2\n",
        "    2 3\n",
        "    3 4\n",
        "    4 7\n",
        "    5 11\n",
        "    Name- col1, dtype- int64\n",
        "    <class 'pandas.core.series.Series'>"
      ]
    },
    {
      "cell_type": "code",
      "metadata": {
        "id": "kwkB4Z1rhsBG",
        "colab_type": "code",
        "outputId": "d5de3f60-de93-4590-ff2b-c23c2a1bfc43",
        "colab": {
          "base_uri": "https://localhost:8080/",
          "height": 323
        }
      },
      "source": [
        "import pandas as pd\n",
        "d = {'col1': [1, 2, 3, 4, 7, 11], 'col2': [4, 5, 6, 9, 5, 0], 'col3': [7, 5, 8, 12, 1,11]}\n",
        "df = pd.DataFrame(data=d)\n",
        "print(\"Original DataFrame\")\n",
        "print(df)\n",
        "s1 = df['col1']\n",
        "print(\"\\n1st column as a Series:\")\n",
        "print(s1)\n",
        "print(type(s1))\n"
      ],
      "execution_count": 0,
      "outputs": [
        {
          "output_type": "stream",
          "text": [
            "Original DataFrame\n",
            "   col1  col2  col3\n",
            "0     1     4     7\n",
            "1     2     5     5\n",
            "2     3     6     8\n",
            "3     4     9    12\n",
            "4     7     5     1\n",
            "5    11     0    11\n",
            "\n",
            "1st column as a Series:\n",
            "0     1\n",
            "1     2\n",
            "2     3\n",
            "3     4\n",
            "4     7\n",
            "5    11\n",
            "Name: col1, dtype: int64\n",
            "<class 'pandas.core.series.Series'>\n"
          ],
          "name": "stdout"
        }
      ]
    },
    {
      "cell_type": "markdown",
      "metadata": {
        "id": "fc3xpcvNhsBO",
        "colab_type": "text"
      },
      "source": [
        "Q5. Write a pandas program to create the mean and standard\n",
        "deviation of the data of a given Series?\n",
        "\n",
        "    Sample OutputOriginal Data Series0 1\n",
        "    1 2\n",
        "    2 3\n",
        "    3 4\n",
        "    4 5\n",
        "    5 6\n",
        "    6 7\n",
        "    7 8\n",
        "    8 9\n",
        "    9 5\n",
        "    10 3\n",
        "    dtype- int64\n",
        "    Mean of the said Data Series4.81818181818\n",
        "    Standard deviation of the said Data Series2.52262489555"
      ]
    },
    {
      "cell_type": "code",
      "metadata": {
        "id": "rgQ0DpKghsBP",
        "colab_type": "code",
        "outputId": "173f86ef-eea3-4580-e365-b9641c1e10b4",
        "colab": {
          "base_uri": "https://localhost:8080/",
          "height": 34
        }
      },
      "source": [
        "def outputSeries(values):\n",
        "  return values.mean(),values.std()\n",
        "series = pd.Series([2,3,4,5,7,8,9,5,3])\n",
        "m,s =outputSeries(series)\n",
        "print(m,s)"
      ],
      "execution_count": 0,
      "outputs": [
        {
          "output_type": "stream",
          "text": [
            "5.111111111111111 2.4209731743889917\n"
          ],
          "name": "stdout"
        }
      ]
    },
    {
      "cell_type": "markdown",
      "metadata": {
        "id": "5IIp9kOZhsBT",
        "colab_type": "text"
      },
      "source": [
        "Q6. Write a pandas program to get powers of an array values\n",
        "element-wise?\n",
        " \n",
        "Note First array elements raised the powers from the second array.\n",
        "\n",
        "    Sample data: {'X ':[78,85,96,80,86], ' Y ':[84,94,89,83,86],'Z':[86,97,96,72,83]}\n",
        "    Expected Output:\n",
        "    X Y Z\n",
        "    0 78 84 86\n",
        "    1 85 94 97\n",
        "    2 96 89 96\n",
        "    3 80 83 72\n",
        "    4 86 86 83"
      ]
    },
    {
      "cell_type": "code",
      "metadata": {
        "id": "R3bnX8wqhsBU",
        "colab_type": "code",
        "outputId": "6c4b9b1a-1a88-46b1-e187-b3f00a490ab6",
        "colab": {
          "base_uri": "https://localhost:8080/",
          "height": 119
        }
      },
      "source": [
        "import pandas as pd\n",
        "df = pd.DataFrame({'X':[78,85,96,80,86], 'Y':[84,94,89,83,86],'Z':[86,97,96,72,83]});\n",
        "print(df)\n"
      ],
      "execution_count": 0,
      "outputs": [
        {
          "output_type": "stream",
          "text": [
            "    X   Y   Z\n",
            "0  78  84  86\n",
            "1  85  94  97\n",
            "2  96  89  96\n",
            "3  80  83  72\n",
            "4  86  86  83\n"
          ],
          "name": "stdout"
        }
      ]
    },
    {
      "cell_type": "markdown",
      "metadata": {
        "id": "j7ZdBWrMhsBa",
        "colab_type": "text"
      },
      "source": [
        "Q7. Write the pandas program to get the first 3 rows of a given\n",
        "DataFrame?\n",
        "\n",
        "    Sample Python dictionary data and list labelsexam_data = {'name': ['Anastasia', 'Dima', 'Katherine', 'James', 'Emily', 'Michael',\n",
        "    'Matthew', 'Laura', 'Kevin', 'Jonas'],\n",
        "    'score': [12.5, 9, 16.5, np.nan, 9, 20, 14.5, np.nan, 8, 19],\n",
        "    'attempts'- [1, 3, 2, 3, 2, 3, 1, 1, 2, 1],\n",
        "    'qualify'- [ 'yes', 'no', 'yes' , 'no', ' no ', ' yes ', 'yes', 'no', 'no', 'yes' ] }\n",
        "    labels = ['a', 'b', 'c', 'd', 'e', 'f', 'g', 'h', 'i', 'j' ]\n",
        "    Expected OutputFirst three rows of the data frameattempts name qualify score\n",
        "    a 1 Anastasia yes 12.5\n",
        "    b 3 Dima no 9.0\n",
        "    c 2 Katherine yes 16.5"
      ]
    },
    {
      "cell_type": "code",
      "metadata": {
        "id": "ddqvp8vThsBb",
        "colab_type": "code",
        "outputId": "053c8df8-5e55-4845-f15d-87584b8a2a12",
        "colab": {
          "base_uri": "https://localhost:8080/",
          "height": 102
        }
      },
      "source": [
        "import pandas as pd\n",
        "import numpy as np\n",
        "\n",
        "exam_data  = {'name': ['Anastasia', 'Dima', 'Katherine', 'James', 'Emily', 'Michael', 'Matthew', 'Laura', 'Kevin', 'Jonas'],\n",
        "        'score': [12.5, 9, 16.5, np.nan, 9, 20, 14.5, np.nan, 8, 19],\n",
        "        'attempts': [1, 3, 2, 3, 2, 3, 1, 1, 2, 1],\n",
        "        'qualify': ['yes', 'no', 'yes', 'no', 'no', 'yes', 'yes', 'no', 'no', 'yes']}\n",
        "labels = ['a', 'b', 'c', 'd', 'e', 'f', 'g', 'h', 'i', 'j']\n",
        "\n",
        "df = pd.DataFrame(exam_data , index=labels)\n",
        "print(\"First three rows of the data frame:\")\n",
        "print(df.iloc[:3])\n"
      ],
      "execution_count": 0,
      "outputs": [
        {
          "output_type": "stream",
          "text": [
            "First three rows of the data frame:\n",
            "        name  score  attempts qualify\n",
            "a  Anastasia   12.5         1     yes\n",
            "b       Dima    9.0         3      no\n",
            "c  Katherine   16.5         2     yes\n"
          ],
          "name": "stdout"
        }
      ]
    },
    {
      "cell_type": "markdown",
      "metadata": {
        "id": "vyVDcdylhsBg",
        "colab_type": "text"
      },
      "source": [
        "Q8: Write the pandas program to select the specified columns and\n",
        "the rows from a given data frame?\n",
        "\n",
        "    Sample Python dictionary data and list labelsSelect 'name' and 'score' columns in rows 1, 3, 5, 6 from the following data frame.\n",
        "    exam_data = {'name ': [ 'Anastasia', 'Dima', 'Katherine', 'James', 'Emily', 'Michael',\n",
        "    'Matthew', 'Laura', 'Kevin', 'Jonas'],\n",
        "    'score'- [12.5, 9, 16.5, np.nan, 9, 20, 14.5, np.nan, 8, 19],\n",
        "    'attempts'- [1, 3, 2, 3, 2, 3, 1, 1, 2, 1],\n",
        "    'qualify'- ['yes', 'no', 'yes', 'no', 'no', 'yes', 'yes', 'no', 'no', 'yes'] }\n",
        "    labels = ['a ', ' b ', ' c ', ' d ', ' e ', ' f ', ' g ', 'h', 'i', 'j']\n",
        "    Expected OutputSelect specific columns and rowsname score\n",
        "    b Dima 9.0\n",
        "    d James NaN\n",
        "    f Michael 20.0\n",
        "    g Matthew 14.5"
      ]
    },
    {
      "cell_type": "code",
      "metadata": {
        "id": "WSZTWQwuhsBj",
        "colab_type": "code",
        "outputId": "a66889a7-be3b-4274-af69-8d34daa70821",
        "colab": {
          "base_uri": "https://localhost:8080/",
          "height": 119
        }
      },
      "source": [
        "import pandas as pd\n",
        "import numpy as np\n",
        "\n",
        "exam_data  = {'name': ['Anastasia', 'Dima', 'Katherine', 'James', 'Emily', 'Michael', 'Matthew', 'Laura', 'Kevin', 'Jonas'],\n",
        "        'score': [12.5, 9, 16.5, np.nan, 9, 20, 14.5, np.nan, 8, 19],\n",
        "        'attempts': [1, 3, 2, 3, 2, 3, 1, 1, 2, 1],\n",
        "        'qualify': ['yes', 'no', 'yes', 'no', 'no', 'yes', 'yes', 'no', 'no', 'yes']}\n",
        "labels = ['a', 'b', 'c', 'd', 'e', 'f', 'g', 'h', 'i', 'j']\n",
        "\n",
        "df = pd.DataFrame(exam_data , index=labels)\n",
        "print(\"Select specific columns and rows:\")\n",
        "print(df.iloc[[1, 3, 5, 6], [1, 3]])\n"
      ],
      "execution_count": 0,
      "outputs": [
        {
          "output_type": "stream",
          "text": [
            "Select specific columns and rows:\n",
            "   score qualify\n",
            "b    9.0      no\n",
            "d    NaN      no\n",
            "f   20.0     yes\n",
            "g   14.5     yes\n"
          ],
          "name": "stdout"
        }
      ]
    },
    {
      "cell_type": "markdown",
      "metadata": {
        "id": "kdo_4HlQhsBq",
        "colab_type": "text"
      },
      "source": [
        "Q9. Write the pandas program to calculate mean score for each\n",
        "different student in DataFrame?\n",
        "\n",
        "    Sample Python dictionary data and list labelsexam_data = {'name': ['Anastasia', 'Dima', 'Katherine', 'James', 'Emily', 'Michael',\n",
        "    'Matthew', 'Laura', 'Kevin', 'Jonas'],\n",
        "    'score': [12.5, 9, 16.5, np.nan, 9, 20, 14.5, np.nan, 8, 19],\n",
        "    'attempts'- [1, 3, 2, 3, 2, 3, 1, 1, 2, 1],\n",
        "    'qualify'- ['yes', 'no', ' yes ', ' no ', ' no ', ' yes ', ' yes ', ' no ', ' no ', ' yes '] }\n",
        "    labels = ['a', 'b', 'c', 'd', 'e', 'f', 'g', 'h', 'i', 'j']\n",
        "    Expected OutputMean score for each different student in data frame:\n",
        "    13.5625"
      ]
    },
    {
      "cell_type": "code",
      "metadata": {
        "id": "arPJCIn_hsBr",
        "colab_type": "code",
        "outputId": "0707d9e4-05ba-427d-ca02-6b7084a3e91b",
        "colab": {
          "base_uri": "https://localhost:8080/",
          "height": 68
        }
      },
      "source": [
        "import pandas as pd\n",
        "import numpy as np\n",
        "exam_data  = {'name': ['Anastasia', 'Dima', 'Katherine', 'James', 'Emily', 'Michael', 'Matthew', 'Laura', 'Kevin', 'Jonas'],\n",
        "        'score': [12.5, 9, 16.5, np.nan, 9, 20, 14.5, np.nan, 8, 19],\n",
        "        'attempts': [1, 3, 2, 3, 2, 3, 1, 1, 2, 1],\n",
        "        'qualify': ['yes', 'no', 'yes', 'no', 'no', 'yes', 'yes', 'no', 'no', 'yes']}\n",
        "labels = ['a', 'b', 'c', 'd', 'e', 'f', 'g', 'h', 'i', 'j']\n",
        "\n",
        "df = pd.DataFrame(exam_data , index=labels)\n",
        "print(\"\\nMean score for each different student in data frame:\")\n",
        "print(df['score'].mean())\n"
      ],
      "execution_count": 0,
      "outputs": [
        {
          "output_type": "stream",
          "text": [
            "\n",
            "Mean score for each different student in data frame:\n",
            "13.5625\n"
          ],
          "name": "stdout"
        }
      ]
    },
    {
      "cell_type": "markdown",
      "metadata": {
        "id": "7807N_b7hsBy",
        "colab_type": "text"
      },
      "source": [
        "Q10. Write the Pandas program to rename columns of a given\n",
        "DataFrame ?\n",
        "\n",
        "    Sample dataOriginal data frame\n",
        "    col1 col2 col3\n",
        "    0 1 4 7\n",
        "    1 2 5 8\n",
        "    2 3 6 9\n",
        "    New data frame after renaming columns:\n",
        "    Column1 Column2 Column3\n",
        "    0 1 4 7\n",
        "    1 2 5 8\n",
        "    2 3 6 9"
      ]
    },
    {
      "cell_type": "code",
      "metadata": {
        "id": "gJmNRpRRhsBz",
        "colab_type": "code",
        "outputId": "1a35fb4b-11db-476d-8e00-376e502833bb",
        "colab": {
          "base_uri": "https://localhost:8080/",
          "height": 187
        }
      },
      "source": [
        "import pandas as pd\n",
        "d = {'col1': [1, 2, 3], 'col2': [4, 5, 6], 'col3': [7, 8, 9]}\n",
        "df = pd.DataFrame(data=d)\n",
        "print(\"Original DataFrame\")\n",
        "print(df)\n",
        "df.columns = ['Column1', 'Column2', 'Column3']\n",
        "df = df.rename(columns={'col1': 'Column1', 'col2': 'Column2', 'col3': 'Column3'})\n",
        "print(\"New DataFrame after renaming columns:\")\n",
        "print(df)\n"
      ],
      "execution_count": 0,
      "outputs": [
        {
          "output_type": "stream",
          "text": [
            "Original DataFrame\n",
            "   col1  col2  col3\n",
            "0     1     4     7\n",
            "1     2     5     8\n",
            "2     3     6     9\n",
            "New DataFrame after renaming columns:\n",
            "   Column1  Column2  Column3\n",
            "0        1        4        7\n",
            "1        2        5        8\n",
            "2        3        6        9\n"
          ],
          "name": "stdout"
        }
      ]
    },
    {
      "cell_type": "markdown",
      "metadata": {
        "id": "VzF2UVJWhsB3",
        "colab_type": "text"
      },
      "source": [
        "Q11. Write a pandas program to count city-wise number of people from\n",
        "a given of data set (city, name of the person)?\n",
        "\n",
        "    Sample data-\n",
        "    city Number of people\n",
        "    0 California 4\n",
        "    1 Georgia 2\n",
        "    2 Los Angeles 4"
      ]
    },
    {
      "cell_type": "code",
      "metadata": {
        "id": "VaEVyspGhsB4",
        "colab_type": "code",
        "outputId": "1fc9d4e6-77fb-4764-97dd-9a85233b0f63",
        "colab": {
          "base_uri": "https://localhost:8080/",
          "height": 85
        }
      },
      "source": [
        "import pandas as pd\n",
        "df1 = pd.DataFrame({'name': ['Anastasia', 'Dima', 'Katherine', 'James', 'Emily', 'Michael', 'Matthew', 'Laura', 'Kevin', 'Jonas'],\n",
        "'city': ['California', 'Los Angeles', 'California', 'California', 'California', 'Los Angeles', 'Los Angeles', 'Georgia', 'Georgia', 'Los Angeles']})\n",
        "g1 = df1.groupby([\"city\"]).size().reset_index(name='Number of people')\n",
        "print(g1)\n"
      ],
      "execution_count": 0,
      "outputs": [
        {
          "output_type": "stream",
          "text": [
            "          city  Number of people\n",
            "0   California                 4\n",
            "1      Georgia                 2\n",
            "2  Los Angeles                 4\n"
          ],
          "name": "stdout"
        }
      ]
    },
    {
      "cell_type": "markdown",
      "metadata": {
        "id": "dKDjFlYWhsB_",
        "colab_type": "text"
      },
      "source": [
        "Q12. Write a pandas program to widen output display to see more\n",
        "columns?\n",
        "    \n",
        "    Sample dataOriginal data frame\n",
        "    col1 col2 col3\n",
        "    0 1 4 7\n",
        "    1 4 5 8\n",
        "    2 3 6 9\n",
        "    3 4 7 0\n",
        "    4 5 8 1"
      ]
    },
    {
      "cell_type": "code",
      "metadata": {
        "id": "T6KDwLMfhsCA",
        "colab_type": "code",
        "outputId": "528ce860-a0d5-4563-c345-bee6deb8f884",
        "colab": {
          "base_uri": "https://localhost:8080/",
          "height": 136
        }
      },
      "source": [
        "import pandas as pd\n",
        "import numpy as np\n",
        "d = {'col1': [1, 4, 3, 4, 5], 'col2': [4, 5, 6, 7, 8], 'col3': [7, 8, 9, 0, 1]}\n",
        "df = pd.DataFrame(data=d)\n",
        "pd.set_option('display.max_rows', 500)\n",
        "pd.set_option('display.max_columns', 500)\n",
        "pd.set_option('display.width', 1000)\n",
        "print(\"Original DataFrame\")\n",
        "print(df)\n"
      ],
      "execution_count": 0,
      "outputs": [
        {
          "output_type": "stream",
          "text": [
            "Original DataFrame\n",
            "   col1  col2  col3\n",
            "0     1     4     7\n",
            "1     4     5     8\n",
            "2     3     6     9\n",
            "3     4     7     0\n",
            "4     5     8     1\n"
          ],
          "name": "stdout"
        }
      ]
    },
    {
      "cell_type": "markdown",
      "metadata": {
        "id": "EdIx-UchhsCF",
        "colab_type": "text"
      },
      "source": [
        "Q13. Write a pandas program to convert the data frame column type\n",
        "from string to DateTime?\n",
        "    \n",
        "    Sample dataString Date0 3/11/2000\n",
        "    1 3/12/2000\n",
        "    2 3/13/2000\n",
        "    dtype- object\n",
        "    Original DataFrame (string to datetime)-\n",
        "    0\n",
        "    0 2000-03-11\n",
        "    1 2000-03-12\n",
        "    2 2000-03-13"
      ]
    },
    {
      "cell_type": "code",
      "metadata": {
        "id": "wAVbzisLhsCJ",
        "colab_type": "code",
        "outputId": "a00b09d0-56b0-483f-c316-d135f1bf4598",
        "colab": {
          "base_uri": "https://localhost:8080/",
          "height": 187
        }
      },
      "source": [
        "import pandas as pd\n",
        "import numpy as np\n",
        "s = pd.Series(['3/11/2000', '3/12/2000', '3/13/2000'])\n",
        "print(\"String Date:\")\n",
        "print(s)\n",
        "r = pd.to_datetime(pd.Series(s))\n",
        "df = pd.DataFrame(r)\n",
        "print(\"Original DataFrame (string to datetime):\")\n",
        "print(df)\n"
      ],
      "execution_count": 0,
      "outputs": [
        {
          "output_type": "stream",
          "text": [
            "String Date:\n",
            "0    3/11/2000\n",
            "1    3/12/2000\n",
            "2    3/13/2000\n",
            "dtype: object\n",
            "Original DataFrame (string to datetime):\n",
            "           0\n",
            "0 2000-03-11\n",
            "1 2000-03-12\n",
            "2 2000-03-13\n"
          ],
          "name": "stdout"
        }
      ]
    },
    {
      "cell_type": "markdown",
      "metadata": {
        "id": "ecEgmueUhsCU",
        "colab_type": "text"
      },
      "source": [
        "Q14. Write a pandas program to append the data to an empty\n",
        "DataFrame?\n",
        "\n",
        "    Sample dataOriginal DataFrame- After appending some data: col1 col2 0 0 0 1 1 1 2 2 2"
      ]
    },
    {
      "cell_type": "code",
      "metadata": {
        "id": "TKttP6UrhsCW",
        "colab_type": "code",
        "outputId": "d7cd6384-734f-4b87-e205-a7cd3de890d6",
        "colab": {
          "base_uri": "https://localhost:8080/",
          "height": 102
        }
      },
      "source": [
        "import pandas as pd\n",
        "import numpy as np\n",
        "df = pd.DataFrame()\n",
        "data = pd.DataFrame({\"col1\": range(3),\"col2\": range(3)})\n",
        "print(\"After appending some data:\")\n",
        "df = df.append(data)\n",
        "print(df)\n",
        "\n"
      ],
      "execution_count": 0,
      "outputs": [
        {
          "output_type": "stream",
          "text": [
            "After appending some data:\n",
            "   col1  col2\n",
            "0     0     0\n",
            "1     1     1\n",
            "2     2     2\n"
          ],
          "name": "stdout"
        }
      ]
    },
    {
      "cell_type": "markdown",
      "metadata": {
        "id": "cXpnSb98hsCf",
        "colab_type": "text"
      },
      "source": [
        "Q15. Write a pandas program to count the number of columns of a\n",
        "DataFrame?\n",
        "\n",
        "    Sample OutputOriginal DataFrame\n",
        "    col1 col2 col3\n",
        "    0 1 4 7\n",
        "    1 2 5 8\n",
        "    2 3 6 12\n",
        "    3 4 9 1\n",
        "    4 7 5 11\n",
        "    Number of columns- 3"
      ]
    },
    {
      "cell_type": "code",
      "metadata": {
        "id": "SIbZsmI-hsCg",
        "colab_type": "code",
        "outputId": "bc3ef28b-4744-47f7-cb78-bab94f2b2db1",
        "colab": {
          "base_uri": "https://localhost:8080/",
          "height": 187
        }
      },
      "source": [
        "import pandas as pd\n",
        "d = {'col1': [1, 2, 3, 4, 7], 'col2': [4, 5, 6, 9, 5], 'col3': [7, 8, 12, 1, 11]}\n",
        "df = pd.DataFrame(data=d)\n",
        "print(\"Original DataFrame\")\n",
        "print(df)\n",
        "print(\"\\nNumber of columns:\")\n",
        "print(len(df.columns))\n"
      ],
      "execution_count": 0,
      "outputs": [
        {
          "output_type": "stream",
          "text": [
            "Original DataFrame\n",
            "   col1  col2  col3\n",
            "0     1     4     7\n",
            "1     2     5     8\n",
            "2     3     6    12\n",
            "3     4     9     1\n",
            "4     7     5    11\n",
            "\n",
            "Number of columns:\n",
            "3\n"
          ],
          "name": "stdout"
        }
      ]
    },
    {
      "cell_type": "markdown",
      "metadata": {
        "id": "sN9fToLEhsCs",
        "colab_type": "text"
      },
      "source": [
        "Q16. Write a Pandas program to remove the last n rows of a given\n",
        "DataFrame ?\n",
        "\n",
        "    Sample Output:\n",
        "    Original DataFrame\n",
        "    col1 col2 col3\n",
        "    0 1 4 7\n",
        "    1 2 5 5\n",
        "    2 3 6 8\n",
        "    3 4 9 12\n",
        "    4 7 5 1\n",
        "    5 11 0 11\n",
        "    After removing last 3 rows of the said DataFramecol1 col2 col3\n",
        "    0 1 4 7\n",
        "    1 2 5 5\n",
        "    2 3 6 8\n",
        "    \n",
        "     Link for Datasets\n",
        "     (https://drive.google.com/drive/folders/105ftuIwN9kqyPNEEm3E6IM7LqywjyvJa?usp=sharing)"
      ]
    },
    {
      "cell_type": "code",
      "metadata": {
        "id": "-6L1apwGhsCv",
        "colab_type": "code",
        "outputId": "ef4a1e3b-ee01-4acd-bcc7-027b98724466",
        "colab": {
          "base_uri": "https://localhost:8080/",
          "height": 255
        }
      },
      "source": [
        "import pandas as pd\n",
        "d = {'col1': [1, 2, 3, 4, 7, 11], 'col2': [4, 5, 6, 9, 5, 0], 'col3': [7, 5, 8, 12, 1,11]}\n",
        "df = pd.DataFrame(data=d)\n",
        "print(\"Original DataFrame\")\n",
        "print(df)\n",
        "print(\"\\nAfter removing last 3 rows of the said DataFrame:\")\n",
        "df1 = df.iloc[:3]\n",
        "print(df1)\n"
      ],
      "execution_count": 0,
      "outputs": [
        {
          "output_type": "stream",
          "text": [
            "Original DataFrame\n",
            "   col1  col2  col3\n",
            "0     1     4     7\n",
            "1     2     5     5\n",
            "2     3     6     8\n",
            "3     4     9    12\n",
            "4     7     5     1\n",
            "5    11     0    11\n",
            "\n",
            "After removing last 3 rows of the said DataFrame:\n",
            "   col1  col2  col3\n",
            "0     1     4     7\n",
            "1     2     5     5\n",
            "2     3     6     8\n"
          ],
          "name": "stdout"
        }
      ]
    },
    {
      "cell_type": "markdown",
      "metadata": {
        "id": "X8SFBt9jhsC0",
        "colab_type": "text"
      },
      "source": [
        "Q17. Write a Pandas program to import excel data (coalpublic2013.xlsx\n",
        ") into a Pandas data frame."
      ]
    },
    {
      "cell_type": "code",
      "metadata": {
        "id": "lJ5Gf98MvZWK",
        "colab_type": "code",
        "outputId": "74d67bca-83b5-4541-f353-73829b818725",
        "colab": {
          "base_uri": "https://localhost:8080/",
          "height": 122
        }
      },
      "source": [
        "from google.colab import drive\n",
        "drive.mount('/content/drive')"
      ],
      "execution_count": 0,
      "outputs": [
        {
          "output_type": "stream",
          "text": [
            "Go to this URL in a browser: https://accounts.google.com/o/oauth2/auth?client_id=947318989803-6bn6qk8qdgf4n4g3pfee6491hc0brc4i.apps.googleusercontent.com&redirect_uri=urn%3aietf%3awg%3aoauth%3a2.0%3aoob&response_type=code&scope=email%20https%3a%2f%2fwww.googleapis.com%2fauth%2fdocs.test%20https%3a%2f%2fwww.googleapis.com%2fauth%2fdrive%20https%3a%2f%2fwww.googleapis.com%2fauth%2fdrive.photos.readonly%20https%3a%2f%2fwww.googleapis.com%2fauth%2fpeopleapi.readonly\n",
            "\n",
            "Enter your authorization code:\n",
            "··········\n",
            "Mounted at /content/drive\n"
          ],
          "name": "stdout"
        }
      ]
    },
    {
      "cell_type": "code",
      "metadata": {
        "id": "G15qSYQOhsC1",
        "colab_type": "code",
        "outputId": "a6f86b98-1418-4195-cf8d-0c92f131e4ae",
        "colab": {
          "base_uri": "https://localhost:8080/",
          "height": 359
        }
      },
      "source": [
        "import pandas as pd\n",
        "import numpy as np\n",
        "df = pd.read_excel('/content/drive/My Drive/Copy of coalpublic2013.xlsx')\n",
        "df.tail(n=10)\n"
      ],
      "execution_count": 0,
      "outputs": [
        {
          "output_type": "execute_result",
          "data": {
            "text/html": [
              "<div>\n",
              "<style scoped>\n",
              "    .dataframe tbody tr th:only-of-type {\n",
              "        vertical-align: middle;\n",
              "    }\n",
              "\n",
              "    .dataframe tbody tr th {\n",
              "        vertical-align: top;\n",
              "    }\n",
              "\n",
              "    .dataframe thead th {\n",
              "        text-align: right;\n",
              "    }\n",
              "</style>\n",
              "<table border=\"1\" class=\"dataframe\">\n",
              "  <thead>\n",
              "    <tr style=\"text-align: right;\">\n",
              "      <th></th>\n",
              "      <th>Year</th>\n",
              "      <th>MSHA ID</th>\n",
              "      <th>Mine_Name</th>\n",
              "      <th>Production</th>\n",
              "      <th>Labor_Hours</th>\n",
              "    </tr>\n",
              "  </thead>\n",
              "  <tbody>\n",
              "    <tr>\n",
              "      <th>40</th>\n",
              "      <td>2013</td>\n",
              "      <td>103372</td>\n",
              "      <td>Cane Creek Mine</td>\n",
              "      <td>66258</td>\n",
              "      <td>32401</td>\n",
              "    </tr>\n",
              "    <tr>\n",
              "      <th>41</th>\n",
              "      <td>2013</td>\n",
              "      <td>103376</td>\n",
              "      <td>Town Creek</td>\n",
              "      <td>299167</td>\n",
              "      <td>176499</td>\n",
              "    </tr>\n",
              "    <tr>\n",
              "      <th>42</th>\n",
              "      <td>2013</td>\n",
              "      <td>103389</td>\n",
              "      <td>Carbon Hill Mine</td>\n",
              "      <td>76241</td>\n",
              "      <td>84966</td>\n",
              "    </tr>\n",
              "    <tr>\n",
              "      <th>43</th>\n",
              "      <td>2013</td>\n",
              "      <td>103410</td>\n",
              "      <td>Coal Valley Mine</td>\n",
              "      <td>407841</td>\n",
              "      <td>158591</td>\n",
              "    </tr>\n",
              "    <tr>\n",
              "      <th>44</th>\n",
              "      <td>2013</td>\n",
              "      <td>103423</td>\n",
              "      <td>Dutton Hill Mine</td>\n",
              "      <td>37275</td>\n",
              "      <td>9162</td>\n",
              "    </tr>\n",
              "    <tr>\n",
              "      <th>45</th>\n",
              "      <td>2013</td>\n",
              "      <td>1519322</td>\n",
              "      <td>Ghm #25</td>\n",
              "      <td>25054</td>\n",
              "      <td>3108</td>\n",
              "    </tr>\n",
              "    <tr>\n",
              "      <th>46</th>\n",
              "      <td>2013</td>\n",
              "      <td>103321</td>\n",
              "      <td>Poplar Springs</td>\n",
              "      <td>189370</td>\n",
              "      <td>76366</td>\n",
              "    </tr>\n",
              "    <tr>\n",
              "      <th>47</th>\n",
              "      <td>2013</td>\n",
              "      <td>103358</td>\n",
              "      <td>Old Union</td>\n",
              "      <td>284563</td>\n",
              "      <td>161805</td>\n",
              "    </tr>\n",
              "    <tr>\n",
              "      <th>48</th>\n",
              "      <td>2013</td>\n",
              "      <td>5000030</td>\n",
              "      <td>Usibelli</td>\n",
              "      <td>1631584</td>\n",
              "      <td>286079</td>\n",
              "    </tr>\n",
              "    <tr>\n",
              "      <th>49</th>\n",
              "      <td>2013</td>\n",
              "      <td>201195</td>\n",
              "      <td>Kayenta Mine</td>\n",
              "      <td>7602722</td>\n",
              "      <td>1015333</td>\n",
              "    </tr>\n",
              "  </tbody>\n",
              "</table>\n",
              "</div>"
            ],
            "text/plain": [
              "    Year  MSHA ID         Mine_Name  Production  Labor_Hours\n",
              "40  2013   103372   Cane Creek Mine       66258        32401\n",
              "41  2013   103376        Town Creek      299167       176499\n",
              "42  2013   103389  Carbon Hill Mine       76241        84966\n",
              "43  2013   103410  Coal Valley Mine      407841       158591\n",
              "44  2013   103423  Dutton Hill Mine       37275         9162\n",
              "45  2013  1519322           Ghm #25       25054         3108\n",
              "46  2013   103321    Poplar Springs      189370        76366\n",
              "47  2013   103358         Old Union      284563       161805\n",
              "48  2013  5000030          Usibelli     1631584       286079\n",
              "49  2013   201195      Kayenta Mine     7602722      1015333"
            ]
          },
          "metadata": {
            "tags": []
          },
          "execution_count": 31
        }
      ]
    },
    {
      "cell_type": "markdown",
      "metadata": {
        "id": "H_af8PEBhsC5",
        "colab_type": "text"
      },
      "source": [
        "Q18. Write a Pandas program to import excel data (coalpublic2013.xlsx\n",
        ") into a data frame and find details where \"Mine Name\" starts with\n",
        "\"P.\n"
      ]
    },
    {
      "cell_type": "code",
      "metadata": {
        "id": "DMe75E2dhsC6",
        "colab_type": "code",
        "outputId": "d2859066-7355-49e0-d019-e48621a0d716",
        "colab": {
          "base_uri": "https://localhost:8080/",
          "height": 173
        }
      },
      "source": [
        "import pandas as pd\n",
        "import numpy as np\n",
        "df = pd.read_excel('/content/drive/My Drive/Copy of coalpublic2013.xlsx')\n",
        "df[df[\"Mine_Name\"].map(lambda x: x.startswith('P'))].head()"
      ],
      "execution_count": 0,
      "outputs": [
        {
          "output_type": "execute_result",
          "data": {
            "text/html": [
              "<div>\n",
              "<style scoped>\n",
              "    .dataframe tbody tr th:only-of-type {\n",
              "        vertical-align: middle;\n",
              "    }\n",
              "\n",
              "    .dataframe tbody tr th {\n",
              "        vertical-align: top;\n",
              "    }\n",
              "\n",
              "    .dataframe thead th {\n",
              "        text-align: right;\n",
              "    }\n",
              "</style>\n",
              "<table border=\"1\" class=\"dataframe\">\n",
              "  <thead>\n",
              "    <tr style=\"text-align: right;\">\n",
              "      <th></th>\n",
              "      <th>Year</th>\n",
              "      <th>MSHA ID</th>\n",
              "      <th>Mine_Name</th>\n",
              "      <th>Production</th>\n",
              "      <th>Labor_Hours</th>\n",
              "    </tr>\n",
              "  </thead>\n",
              "  <tbody>\n",
              "    <tr>\n",
              "      <th>13</th>\n",
              "      <td>2013</td>\n",
              "      <td>103332</td>\n",
              "      <td>Powhatan Mine</td>\n",
              "      <td>140521</td>\n",
              "      <td>61394</td>\n",
              "    </tr>\n",
              "    <tr>\n",
              "      <th>18</th>\n",
              "      <td>2013</td>\n",
              "      <td>102976</td>\n",
              "      <td>Piney Woods Preparation Plant</td>\n",
              "      <td>0</td>\n",
              "      <td>14828</td>\n",
              "    </tr>\n",
              "    <tr>\n",
              "      <th>19</th>\n",
              "      <td>2013</td>\n",
              "      <td>102976</td>\n",
              "      <td>Piney Woods Preparation Plant</td>\n",
              "      <td>0</td>\n",
              "      <td>23193</td>\n",
              "    </tr>\n",
              "    <tr>\n",
              "      <th>46</th>\n",
              "      <td>2013</td>\n",
              "      <td>103321</td>\n",
              "      <td>Poplar Springs</td>\n",
              "      <td>189370</td>\n",
              "      <td>76366</td>\n",
              "    </tr>\n",
              "  </tbody>\n",
              "</table>\n",
              "</div>"
            ],
            "text/plain": [
              "    Year  MSHA ID                      Mine_Name  Production  Labor_Hours\n",
              "13  2013   103332                  Powhatan Mine      140521        61394\n",
              "18  2013   102976  Piney Woods Preparation Plant           0        14828\n",
              "19  2013   102976  Piney Woods Preparation Plant           0        23193\n",
              "46  2013   103321                 Poplar Springs      189370        76366"
            ]
          },
          "metadata": {
            "tags": []
          },
          "execution_count": 35
        }
      ]
    },
    {
      "cell_type": "markdown",
      "metadata": {
        "id": "bvuwLPL9hsC_",
        "colab_type": "text"
      },
      "source": [
        "Q19. Write a Pandas program to import excel data (employee.xlsx )\n",
        "into a Pandas dataframe and find the list of employees where\n",
        "hire_date> 01-01-07.\n"
      ]
    },
    {
      "cell_type": "code",
      "metadata": {
        "id": "zIu40Gg-hsDA",
        "colab_type": "code",
        "colab": {}
      },
      "source": [
        "df = pd.read_excel('/content/drive/My Drive/Copy of employee.xlsx')\n",
        "df[df['hire_date'] >='20070101']"
      ],
      "execution_count": 0,
      "outputs": []
    },
    {
      "cell_type": "markdown",
      "metadata": {
        "id": "t05PMbEwhsDG",
        "colab_type": "text"
      },
      "source": [
        "Q20. Write a Pandas program to import excel data (employee.xlsx )\n",
        "into a Pandas dataframe and find a list of the employees of a specified\n",
        "year"
      ]
    },
    {
      "cell_type": "code",
      "metadata": {
        "id": "P8KGnFBmhsDI",
        "colab_type": "code",
        "colab": {
          "base_uri": "https://localhost:8080/",
          "height": 266
        },
        "outputId": "91ef43db-cf08-4ee3-9e68-6a9490008798"
      },
      "source": [
        "df = pd.read_excel('/content/drive/My Drive/Copy of employee.xlsx')\n",
        "df2 = df.set_index(['hire_date'])\n",
        "result = df2[\"2005\"]\n",
        "result"
      ],
      "execution_count": 37,
      "outputs": [
        {
          "output_type": "execute_result",
          "data": {
            "text/html": [
              "<div>\n",
              "<style scoped>\n",
              "    .dataframe tbody tr th:only-of-type {\n",
              "        vertical-align: middle;\n",
              "    }\n",
              "\n",
              "    .dataframe tbody tr th {\n",
              "        vertical-align: top;\n",
              "    }\n",
              "\n",
              "    .dataframe thead th {\n",
              "        text-align: right;\n",
              "    }\n",
              "</style>\n",
              "<table border=\"1\" class=\"dataframe\">\n",
              "  <thead>\n",
              "    <tr style=\"text-align: right;\">\n",
              "      <th></th>\n",
              "      <th>emp_id</th>\n",
              "      <th>first_name</th>\n",
              "      <th>last_name</th>\n",
              "    </tr>\n",
              "    <tr>\n",
              "      <th>hire_date</th>\n",
              "      <th></th>\n",
              "      <th></th>\n",
              "      <th></th>\n",
              "    </tr>\n",
              "  </thead>\n",
              "  <tbody>\n",
              "    <tr>\n",
              "      <th>2005-09-21</th>\n",
              "      <td>101</td>\n",
              "      <td>Neena</td>\n",
              "      <td>Kochhar</td>\n",
              "    </tr>\n",
              "    <tr>\n",
              "      <th>2005-06-25</th>\n",
              "      <td>105</td>\n",
              "      <td>David</td>\n",
              "      <td>Austin</td>\n",
              "    </tr>\n",
              "    <tr>\n",
              "      <th>2005-09-28</th>\n",
              "      <td>110</td>\n",
              "      <td>John</td>\n",
              "      <td>Chen</td>\n",
              "    </tr>\n",
              "    <tr>\n",
              "      <th>2005-09-30</th>\n",
              "      <td>111</td>\n",
              "      <td>Ismael</td>\n",
              "      <td>Sciarra</td>\n",
              "    </tr>\n",
              "    <tr>\n",
              "      <th>2005-12-24</th>\n",
              "      <td>116</td>\n",
              "      <td>Shelli</td>\n",
              "      <td>Baida</td>\n",
              "    </tr>\n",
              "    <tr>\n",
              "      <th>2005-07-24</th>\n",
              "      <td>117</td>\n",
              "      <td>Sigal</td>\n",
              "      <td>Tobias</td>\n",
              "    </tr>\n",
              "  </tbody>\n",
              "</table>\n",
              "</div>"
            ],
            "text/plain": [
              "            emp_id first_name last_name\n",
              "hire_date                              \n",
              "2005-09-21     101      Neena   Kochhar\n",
              "2005-06-25     105      David    Austin\n",
              "2005-09-28     110       John      Chen\n",
              "2005-09-30     111     Ismael   Sciarra\n",
              "2005-12-24     116     Shelli     Baida\n",
              "2005-07-24     117      Sigal    Tobias"
            ]
          },
          "metadata": {
            "tags": []
          },
          "execution_count": 37
        }
      ]
    },
    {
      "cell_type": "markdown",
      "metadata": {
        "id": "JivLseGfhsDQ",
        "colab_type": "text"
      },
      "source": [
        "## Great Job!"
      ]
    }
  ]
}